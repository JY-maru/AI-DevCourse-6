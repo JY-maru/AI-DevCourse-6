{
 "cells": [
  {
   "cell_type": "markdown",
   "metadata": {},
   "source": [
    "# 4주차 라이브세션!"
   ]
  },
  {
   "cell_type": "markdown",
   "metadata": {},
   "source": [
    "## API?\n",
    "- 한 프로그램에서 다른 프로그램을 사용하기 위한 인터페이스\n",
    "\n",
    "ex. 구글 캘린더"
   ]
  },
  {
   "cell_type": "markdown",
   "metadata": {},
   "source": [
    "- API Document\n",
    "\n",
    "![Alt text](image-2.png)"
   ]
  },
  {
   "cell_type": "markdown",
   "metadata": {},
   "source": [
    "## DBMS\n",
    "- Database : **정돈된** 데이터를 보관하는 저장소\n",
    "- **DBMS**(Database Manegemenet System) : 데이터베이스 관리 시스템\n",
    "\n",
    "- RDB(Relational Database) : 테이블의 형태를 통해 관계를 나타내는 데이터베이스 - Table형태\n",
    "\n",
    "![Alt text](image-3.png)"
   ]
  },
  {
   "cell_type": "markdown",
   "metadata": {},
   "source": [
    "---\n",
    "\n",
    "#### Relational(정형화됨) Vs Non-Relational : 정형화되어 있는지?\n",
    "\n",
    "- 정형화된 데이터 Relational data\n",
    "\n",
    "    - key-value형태의 접근 (데이터 명세가 좋다.)\n",
    "    - 데이터가 **Spare**하다면 찾아내기 불편할 수 있다.\n",
    "\n",
    "- 비정형 데이터 Document-based data\n",
    "\n",
    "    - 확장에 유리함\n",
    "    - 데이터 명세가 약하다.\n",
    "\n",
    "#### Row-Based Vs Column-Based\n",
    "\n",
    "- 데이터 저장 방식?\n",
    "    - Row-based :\n",
    "    - Column-based : **Attribute**에 해당하는 정보를 추출해내고 싶을 때 통계내기 좋기에 자주 활용함. -> 거시적 관점의 데이터 추출에 용이\n"
   ]
  },
  {
   "cell_type": "markdown",
   "metadata": {},
   "source": [
    "---\n",
    "## SQL 종류\n",
    "\n",
    "![Alt text](image.png)\n",
    "\n",
    "### DML\n",
    "- SELECT\n",
    "- INSERT\n",
    "- UPDATE\n",
    "- DELETE"
   ]
  },
  {
   "cell_type": "markdown",
   "metadata": {},
   "source": [
    "### SELECT \n",
    "데이터 조회하기"
   ]
  },
  {
   "cell_type": "code",
   "execution_count": null,
   "metadata": {
    "vscode": {
     "languageId": "sql"
    }
   },
   "outputs": [],
   "source": [
    "SELECT * FROM my_table \n",
    "WHERE age <25"
   ]
  },
  {
   "cell_type": "code",
   "execution_count": null,
   "metadata": {
    "vscode": {
     "languageId": "sql"
    }
   },
   "outputs": [],
   "source": []
  },
  {
   "cell_type": "markdown",
   "metadata": {},
   "source": [
    "### INSERT\n",
    "데이터 삽입 : 해당 열에 해당 값들을 추가"
   ]
  },
  {
   "cell_type": "code",
   "execution_count": null,
   "metadata": {
    "vscode": {
     "languageId": "sql"
    }
   },
   "outputs": [],
   "source": [
    "INSERT INTO my_table(no_emp, nm_kor, age)\n",
    "VALUES('dz000','홍길동',20);"
   ]
  },
  {
   "cell_type": "markdown",
   "metadata": {},
   "source": [
    "### UPDATE\n",
    "데이터 수정"
   ]
  },
  {
   "cell_type": "code",
   "execution_count": null,
   "metadata": {
    "vscode": {
     "languageId": "sql"
    }
   },
   "outputs": [],
   "source": [
    "UPDATE my_table \n",
    "SET quantity = 10 \n",
    "WHERE item = '3041040';"
   ]
  },
  {
   "cell_type": "markdown",
   "metadata": {},
   "source": [
    "### DELETE\n",
    "데이터 삭제 \n",
    "\n",
    "- 예제 : my_table에서 company열의 해당 값을 가지는 행과, item값이 해당하면 지워라"
   ]
  },
  {
   "cell_type": "code",
   "execution_count": null,
   "metadata": {
    "vscode": {
     "languageId": "sql"
    }
   },
   "outputs": [],
   "source": [
    "DELETE FROM my_table\n",
    "WHERE company='3020' AND item IN ('1424','1244','1434');"
   ]
  }
 ],
 "metadata": {
  "kernelspec": {
   "display_name": "DevCourse_6",
   "language": "python",
   "name": "python3"
  },
  "language_info": {
   "codemirror_mode": {
    "name": "ipython",
    "version": 3
   },
   "file_extension": ".py",
   "mimetype": "text/x-python",
   "name": "python",
   "nbconvert_exporter": "python",
   "pygments_lexer": "ipython3",
   "version": "3.10.12"
  },
  "orig_nbformat": 4
 },
 "nbformat": 4,
 "nbformat_minor": 2
}
