{
 "cells": [
  {
   "cell_type": "markdown",
   "metadata": {},
   "source": [
    "![Alt text](image.png)"
   ]
  },
  {
   "cell_type": "markdown",
   "metadata": {},
   "source": [
    "# Flask\n",
    "- python 기반 마이크로(essential) 웹 프레임워크\n",
    "- 가볍고 미니 프로젝트에서 좋은 효율\n",
    "\n",
    "## 가상환경\n",
    "- 독립적인 프로젝트 환경 구축함.\n",
    "\n",
    "`pip install virtualenv`\n"
   ]
  },
  {
   "cell_type": "markdown",
   "metadata": {},
   "source": [
    "## Flask 설치"
   ]
  },
  {
   "cell_type": "code",
   "execution_count": 1,
   "metadata": {},
   "outputs": [
    {
     "name": "stdout",
     "output_type": "stream",
     "text": [
      "Requirement already satisfied: virtualenv in /Users/jykim/opt/anaconda3/envs/DevCourse_6/lib/python3.10/site-packages (20.24.5)\n",
      "Requirement already satisfied: distlib<1,>=0.3.7 in /Users/jykim/opt/anaconda3/envs/DevCourse_6/lib/python3.10/site-packages (from virtualenv) (0.3.7)\n",
      "Requirement already satisfied: filelock<4,>=3.12.2 in /Users/jykim/opt/anaconda3/envs/DevCourse_6/lib/python3.10/site-packages (from virtualenv) (3.12.3)\n",
      "Requirement already satisfied: platformdirs<4,>=3.9.1 in /Users/jykim/opt/anaconda3/envs/DevCourse_6/lib/python3.10/site-packages (from virtualenv) (3.10.0)\n",
      "Requirement already satisfied: typing-extensions>=4.7.1 in /Users/jykim/opt/anaconda3/envs/DevCourse_6/lib/python3.10/site-packages (from filelock<4,>=3.12.2->virtualenv) (4.7.1)\n",
      "Note: you may need to restart the kernel to use updated packages.\n"
     ]
    }
   ],
   "source": [
    "%pip install virtualenv"
   ]
  },
  {
   "cell_type": "code",
   "execution_count": 5,
   "metadata": {},
   "outputs": [
    {
     "name": "stderr",
     "output_type": "stream",
     "text": [
      "UsageError: Line magic function `%virtualenv` not found.\n"
     ]
    }
   ],
   "source": [
    "%virtualenv venv"
   ]
  },
  {
   "cell_type": "markdown",
   "metadata": {},
   "source": [
    "- 가상환경 진입\n",
    "`source venv/bin/activate`"
   ]
  },
  {
   "cell_type": "code",
   "execution_count": 4,
   "metadata": {},
   "outputs": [
    {
     "name": "stderr",
     "output_type": "stream",
     "text": [
      "UsageError: Line magic function `%source` not found.\n"
     ]
    }
   ],
   "source": [
    "%source venv/bin/activate"
   ]
  },
  {
   "cell_type": "markdown",
   "metadata": {},
   "source": [
    "- flask 설치 \n",
    "`pip install flask`"
   ]
  },
  {
   "cell_type": "markdown",
   "metadata": {},
   "source": [
    "---\n",
    "# 인터넷과 웹\n",
    "\n",
    "## 인터넷\n",
    "전 세계 컴퓨터를 하나로 합치는 거대한 통신망\n",
    "\n",
    "## 웹\n",
    "인터넷에 연결된 사용자들이 정보를 공유할 수 있는 공간\n",
    "- naver.com\n",
    "- google.kr\n",
    "\n",
    "`웹은 인터넷의 부분집합`\n"
   ]
  },
  {
   "cell_type": "markdown",
   "metadata": {},
   "source": [
    "- 웹의 사용\n",
    "1. 웹 : 클라이언트(정보를 요청하는 쪽) 와 서버(정보를 제공하는 쪽) 사이의 소통\n",
    "\n",
    "주소 : naver.com/blog -> `naver.com`와`/blog`로 나눌 수 있다.\n",
    "- `naver.com`라는 루트정보 (홈페이지)에 대한 `/blog`를 가지고 와달라는 요청 (request)\n",
    "- 요청에 대한 응답 (404,500,202,...)\n",
    "\n",
    "이러한 정보 교환 방식을 프로토콜 형태로 지정 : `http`\n",
    "클라이언트 -> 서버 요청 과 서버 -> 클라이언트의 응답은 **http**기반\n",
    "\n",
    "`서버의 입장에서 요청에 대해 어떻게 반응해 처리할 지 정하는 것이 Flask와 Django`"
   ]
  },
  {
   "cell_type": "markdown",
   "metadata": {},
   "source": [
    "# Flask with REST api\n",
    "\n",
    "## API\n",
    "프로그램 사이 서로 상호작용하는 것을 도와주는 매개체\n",
    "\n",
    "## REST (Representational State Transfer)\n",
    "웹 서버가 요청을 응답하는 방법론 중 하나.\n",
    "\n",
    "데이터가 아닌 **자원**의 관점으로 접근\n",
    "\n",
    "- **HTTP URI**를 통해 자원을 명시하고 **HTTP Method**를 통해 해당 자원에 대한 CRUD를 진행\n",
    "\n",
    "- ** URI ** 요청을 보내는 자원들의 식별자\n",
    "- **HTTP Method** : 요청 방법을 말함.(GET, POST, PUT) \n",
    " \n",
    "### ex\n",
    "`POST /shoes` : 자원에 새로운 정보 생성\n",
    "`GET /shoes` : DB에서 shoes가 있는지 확인 후 해당 자원 반환\n",
    "(서버입장에서) 아이템을 GET하기위해 POST를 진행할 필요 없음.\n",
    "\n",
    "## Prac 1. 커피숍 Api를 구축하자!\n",
    "\n"
   ]
  },
  {
   "cell_type": "markdown",
   "metadata": {},
   "source": [
    "- 서버 띄우기 \n",
    "\n",
    "`FLASK_APP=sign_up.py FLASK_DEBUG=1 flask run`"
   ]
  },
  {
   "cell_type": "markdown",
   "metadata": {},
   "source": []
  }
 ],
 "metadata": {
  "kernelspec": {
   "display_name": "DevCourse_6",
   "language": "python",
   "name": "python3"
  },
  "language_info": {
   "codemirror_mode": {
    "name": "ipython",
    "version": 3
   },
   "file_extension": ".py",
   "mimetype": "text/x-python",
   "name": "python",
   "nbconvert_exporter": "python",
   "pygments_lexer": "ipython3",
   "version": "3.10.12"
  },
  "orig_nbformat": 4
 },
 "nbformat": 4,
 "nbformat_minor": 2
}
