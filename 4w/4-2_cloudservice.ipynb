{
 "cells": [
  {
   "cell_type": "markdown",
   "metadata": {},
   "source": [
    "- 클라우드 서비스 : 인터넷 기반 컴퓨팅의 일종\n",
    "\n",
    "-> 필요한 만큼의 컴퓨팅 파워, DB저장공간, 애플리케이션 및 기타 IT자원을 필요에 따라 인터넷을 통해 제공"
   ]
  },
  {
   "cell_type": "markdown",
   "metadata": {},
   "source": [
    "## 장점\n",
    "- 클라우드 제공자워 별도 커뮤니케이션 없이 클라우드 서비스 바로 이용 가능\n",
    "- 접근성 : 인터넷을 통해 사용자 위치, 시간 관계 없이 어떤 디바이스로도 접근 가능\n",
    "- 확장성 : 이용량 증가 등에 신속 유연하게 추가확장 가능\n",
    "- 생산성 : 하드웨어, 소프트웨어 설치에 들어가는 시간, 비용 절약\n",
    "- 보안, 안정성: 공급자가 보안이나 안정성에 대한 준비를함.\n",
    "- 분초단위 과금 측정\n"
   ]
  },
  {
   "cell_type": "markdown",
   "metadata": {},
   "source": [
    "## 서비스 운용 모델\n",
    "- 하이브리드\n",
    "- 퍼블릭\n",
    "- 프라이빗"
   ]
  },
  {
   "cell_type": "markdown",
   "metadata": {},
   "source": [
    "## 클라우드 서비스 제공 모델\n",
    "제공 방식에 따라 Iaas, Paas, Saas 세 형태로 구분,,\n",
    "\n",
    "- Iaas : \n",
    "- Paas : \n",
    "- Saas : 직접 관리할 수 없는 모델\n",
    "\n",
    "![Alt text](image.png)"
   ]
  },
  {
   "cell_type": "markdown",
   "metadata": {},
   "source": [
    "## Cloud Service Provider\n",
    "- aws, Naver Cloud, KT Cloud\n"
   ]
  },
  {
   "cell_type": "markdown",
   "metadata": {},
   "source": [
    "---\n",
    "\n",
    "# AWS Foundation\n"
   ]
  },
  {
   "cell_type": "markdown",
   "metadata": {},
   "source": [
    "- AWS는 Region(리전)이라는 그룹으로 데이터 센터를 구축해 한 건물에 화재. 재난이 발생하도 안정적 운영 가능.\n",
    "\n",
    "### 리전 선택 시 고려할 요인\n",
    "\n",
    "![Alt text](image-1.png)\n",
    "\n",
    "- Region은 지리적 위치를 의미하며 최소한 2개 이상의 가용영역으로 구성된다.\n",
    "- Availability Zone(가용 영역)은 리전 내 단일 또는 그룹으로 구성된 데이터 센터를 의미한다.\n",
    "- 각 가용 영역은 다른 가용 영역의 장애로부터 영향을 받지 않을 수 있도록 분리되어 있으나 지연시간은 짧은 링크로 연결되어 있다.\n",
    "\n",
    "### AWS Storage Services\n",
    "- AWS는 EBS와 S3 두 가지 스토리지를 많이 사용한다.\n",
    "- EBS(Elastic Block Store)는 Amazon EC2 인스턴스에서 사용할 수 있는 volume을 제공하는 스토리지 서비스 ( 복잡한 읽기, 쓰기, 변경기능 수행 시)\n",
    "- S3(Simple Storage Service)는 데이터, 메타데이터, 키 세개로 구성된 객체를 Bucket에 저장하는 스토리지 서비스 (완성된 객체를 사용하며, 변경 횟수가 적은 경우)\n",
    "\n",
    "### AWS Database Service\n",
    "- AWS 클라우드에서 관계형 데이터베이스를 실행할 수 있는 RDS와 비관계형 데이터를 위한 NoSQL DB, Document DB등 다양한서비스 제공.\n",
    "#### **Amazon Relational Database Service**\n",
    "- 하드웨어 프로비저닝, DB설정, 패치 업데이트 적용, 백업 등의 작업 자동화하여 관리해주는 서비스\n",
    "#### **Amazon Aurora**\n",
    "- MySQL, PostgreSQL과 호환되는 엔터프라이즈 레벨의 RDB\n",
    "- 표준 관계형 데이터 베이스보다 최대 3~5배 더 빠름\n",
    "- Amazon Aurora는 6개의 데이터 복사본을 3개의 가용 영역에 복제하고 지속적으로 Amazon S3에 데이터를 백업\n",
    "#### **Amazon DynamoDB**\n",
    "-  key(attribute)-value(item)구조로 된 데이터를 저장하고 쿼리할 수 있는 DB서비스\n",
    "- 서버를 사용하지 얺아 프로지버닝, 패치 적용 들의 관리 불필요\n",
    "- 소프트웨어 설치, 유지보수, 운영에 불필요\n",
    "- 데이터베이스 용량 변화에 맞게 크기를 조정하며 성능 유지\n",
    "\n",
    "\n"
   ]
  },
  {
   "cell_type": "markdown",
   "metadata": {},
   "source": [
    "---\n",
    "# RESTful API for ML/DL model interface\n",
    "\n",
    "- REST 아키텍처를 따르는 API로 HTTP URI를 통해 자원을 명시하고 HTTP Method를 통해 필요한 연산을 요청하고 반환하는 API를 지칭 \n",
    "\n",
    "\n",
    "- RESTful API는 데이터나 정보의 교환/요청 등을 위한 인터페이스를 REST아키텍처를 따라 구현한 API\n",
    "- 일반적으로 데이터 값을 담아 요청하고 모델이 추론한 결과에 대한 return을 json형태로 보통 반환하도록 설계함.\n",
    "- RESTful API는 요청 메세지만 봐도 어떤 내용으로 표현되어있는지 알 수 있도록 표현됨.\n",
    "\n",
    "![Alt text](image-2.png)\n"
   ]
  },
  {
   "cell_type": "markdown",
   "metadata": {},
   "source": [
    "## model Serving\n",
    "![Alt text](image-3.png)"
   ]
  },
  {
   "cell_type": "markdown",
   "metadata": {},
   "source": [
    "## Serialization & De-Serialization\n",
    "학습한 모델의 재사용 및 배포를 위해 저장하고 불러오는 것.\n",
    "\n",
    "- Serialization : ML/DL model object를 디스크에 write하여 어디든 전송하고 불러올 수 있는 형태로 변환\n",
    "- De-Serialization :  파이썬 또는 다른 환경에서 model을 불러와 추론/학습에 사용\n",
    "- 모델을 배포하는 환경을 고려해 환경에 맞는 올바른 방법으로 Serialization을 해야 De-Serialization이 가능하다.\n"
   ]
  },
  {
   "cell_type": "markdown",
   "metadata": {},
   "source": [
    "## model Serving을 위한 다양한 Framework\n",
    "\n",
    "- TensorFlow serving\n",
    "- TorchServe\n",
    "- TensorRT\n",
    "\n",
    "Flask와 같은 웹프레임워크는 클라이언트로부터의 요청을 처리하기위해 주로 사용한다. 별도의 모델 추론을 위한 AP서버를 운용하여 내부 혹은 외부 통신을 통해 예측/추론값 반환. 대용량 데이터 배치처리와 딥러닝 모델의 활용이 늘면서 multi node, multi GPU환경에서의 안정적인 모델 서빙을 위함."
   ]
  },
  {
   "cell_type": "code",
   "execution_count": 1,
   "metadata": {},
   "outputs": [],
   "source": [
    "import pandas"
   ]
  },
  {
   "cell_type": "code",
   "execution_count": null,
   "metadata": {},
   "outputs": [],
   "source": []
  }
 ],
 "metadata": {
  "kernelspec": {
   "display_name": "DevCourse_6",
   "language": "python",
   "name": "python3"
  },
  "language_info": {
   "codemirror_mode": {
    "name": "ipython",
    "version": 3
   },
   "file_extension": ".py",
   "mimetype": "text/x-python",
   "name": "python",
   "nbconvert_exporter": "python",
   "pygments_lexer": "ipython3",
   "version": "3.10.12"
  },
  "orig_nbformat": 4
 },
 "nbformat": 4,
 "nbformat_minor": 2
}
