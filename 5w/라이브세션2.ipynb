{
 "cells": [
  {
   "cell_type": "markdown",
   "metadata": {},
   "source": [
    "- Graphic User Interface (GUI)\n",
    "\n",
    "    장점 : 시각화로 인한 사용 용이함.\n",
    "    단점 : 구축된 인터페이스만 이용가능하므로 제한적이다.\n",
    "\n",
    "- Command Line Interface (CLI)\n",
    "\n",
    "    따라서 `CLI`에 먼저 익숙해져보자.\n",
    "    "
   ]
  },
  {
   "cell_type": "markdown",
   "metadata": {},
   "source": [
    "![Alt text](image-1.png)\n",
    "\n",
    "- shell을 활용해 system call, kernel을 활용할 수 있다."
   ]
  },
  {
   "cell_type": "markdown",
   "metadata": {},
   "source": [
    "- `whoami` : user id를 보여줌\n",
    "- `man <command>` : **command**에 대한 부연설명"
   ]
  },
  {
   "cell_type": "markdown",
   "metadata": {},
   "source": [
    "![Alt text](image-2.png)"
   ]
  },
  {
   "cell_type": "markdown",
   "metadata": {},
   "source": [
    "### Home Directory (~)\n",
    "\n",
    "- Ubuntu : `/home/me`\n",
    "- Mac Os : `/User/me`\n",
    "- Windows : `C:\\user\\`\n",
    "\n",
    "### 절대 경로와 상대 경로\n",
    "\n",
    "- 절대 경로 (Absolute) : `/home/me/Documents/`\n",
    "- 상대 경로 (Relative) : `./Documents/`\n",
    "\n",
    ">`[project] $ rm -f foo.txt`\n",
    "- `[project] $` : prompt\n",
    "- `rm` : command\n",
    "- `-f` : option\n",
    "- `foo.txt` argment \n",
    "\n",
    "---\n",
    "### Command\n",
    "- `ls -F(d)` : 모든 폴더만을 보여줌 (f:폴더, d:디렉토리)\n",
    "- `cp /path/x /path/y` : CoPy file_X to file_Y\n",
    "- `mv /path/x /paht/y` : Move file_X to file_Y\n",
    "- `rm -rf X` : file_X 무조건 삭제\n",
    "\n",
    "- `cat` : 파일 내 내용물 확인\n",
    "- `head` : 첫 10(default)줄 확인\n",
    "- `sort` : input 정렬\n",
    "- `<command> > file` : file에 출력물을 오버라이딩\n",
    "- `<command> >> file` : 뒤 이어 나머지에도 오버라이딩\n",
    "\n"
   ]
  },
  {
   "cell_type": "markdown",
   "metadata": {},
   "source": []
  },
  {
   "cell_type": "markdown",
   "metadata": {},
   "source": []
  }
 ],
 "metadata": {
  "language_info": {
   "name": "python"
  },
  "orig_nbformat": 4
 },
 "nbformat": 4,
 "nbformat_minor": 2
}
