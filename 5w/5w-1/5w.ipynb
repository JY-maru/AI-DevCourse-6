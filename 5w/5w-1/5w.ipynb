{
 "cells": [
  {
   "cell_type": "markdown",
   "metadata": {},
   "source": [
    "# Django\n",
    "- Python 기반 웹 프레임워크\n",
    "\n",
    "## Django VS Flask\n",
    "- `Flask` : 마이크로, 모듈을 추가해가면서 커져감. 작은 미니프로젝트에서 적합하다.\n",
    "- `Django` : 거의 모든 것이 내장. 큰 프로젝트에 적합함.\n"
   ]
  },
  {
   "cell_type": "markdown",
   "metadata": {},
   "source": [
    "## 가상환경에서 Django 설치하기"
   ]
  },
  {
   "cell_type": "code",
   "execution_count": null,
   "metadata": {},
   "outputs": [],
   "source": [
    "# 라이브러리 다운\n",
    "%pip install django\n"
   ]
  },
  {
   "cell_type": "markdown",
   "metadata": {},
   "source": [
    "- django 프로젝트 생성"
   ]
  },
  {
   "cell_type": "code",
   "execution_count": null,
   "metadata": {},
   "outputs": [],
   "source": [
    "%django-admin startproject webproj"
   ]
  },
  {
   "cell_type": "markdown",
   "metadata": {},
   "source": [
    "- 서버 돌리기"
   ]
  },
  {
   "cell_type": "code",
   "execution_count": null,
   "metadata": {},
   "outputs": [],
   "source": [
    "%python manage.py runserver"
   ]
  },
  {
   "cell_type": "markdown",
   "metadata": {},
   "source": [
    "- django 구조"
   ]
  },
  {
   "cell_type": "markdown",
   "metadata": {},
   "source": [
    "- 프로젝트 구조 : 한 프로젝트는 여러 앱으로 구성되어 있다.\n",
    "![Alt text](image.png)"
   ]
  },
  {
   "cell_type": "markdown",
   "metadata": {},
   "source": [
    "- 새로운 앱 생성하기\n",
    "\n",
    "`django-admin startapp <app_name>` -> 새로운 디렉 생성"
   ]
  },
  {
   "cell_type": "code",
   "execution_count": null,
   "metadata": {
    "vscode": {
     "languageId": "plaintext"
    }
   },
   "outputs": [],
   "source": [
    "%django-admin startapp <app_name>"
   ]
  },
  {
   "cell_type": "markdown",
   "metadata": {},
   "source": [
    "## MVT Pattern\n",
    "- 개발 패턴\n",
    "\n",
    "![Alt text](image-1.png)\n",
    "\n",
    "- MVC(model, view, controller)\n",
    "- MVT : 장고만의 패턴\n",
    "\n",
    "    - user $\\to$ Django ( HTTP request )\n",
    "    - Django가 request에 대한 URL인식 (urls.py 확인)\n",
    "    - URL존재 시, Veiw로 보냄 (veiws.py에서 처리)\n",
    "    - 데이터베이스 처리 시, DB관리하는 model과 소통\n",
    "    - request응답 시, 웹페이지. 문서등을 보여주는 과정에서 Template에 접근. (.html + template언어)\n",
    "    \n"
   ]
  },
  {
   "cell_type": "markdown",
   "metadata": {},
   "source": [
    "# 5-1. Veiw\n",
    "- request Handling\n",
    "- Veiw $\\to$ model\n",
    "- Veiw $\\to$ template"
   ]
  },
  {
   "cell_type": "markdown",
   "metadata": {},
   "source": [
    "- 관리자 계정 만들기\n",
    "\n",
    "`python manage.py createsuperuser`"
   ]
  },
  {
   "cell_type": "markdown",
   "metadata": {},
   "source": [
    "- 데이터 생성, 삭제, 수정에 대한 커밋을 남겨야 함.\n",
    "\n",
    "`python manage.py migrate`\n",
    "$\\to$ 해당 프로젝트에 DB가 연동됨."
   ]
  },
  {
   "cell_type": "markdown",
   "metadata": {},
   "source": [
    "# Template\n",
    "- template으로 보여줄 화면 구성하기\n",
    "\n",
    "## django template 언어\n",
    "- view.py에서 render()에서 정의 $\\to$.html 내에서 사용\n",
    "\n",
    "`{{my_num}}`"
   ]
  },
  {
   "cell_type": "markdown",
   "metadata": {},
   "source": [
    "### Template Filter\n",
    "- `|` : pipeline 사용\n",
    "\n",
    "#### Ex\n",
    "- `|length` : 길이 return\n",
    "- `| upper` : 모두 대문자화"
   ]
  },
  {
   "cell_type": "markdown",
   "metadata": {},
   "source": [
    "`| divisibleby:\"3\"` : 3으로 나누어 떨어질 때"
   ]
  },
  {
   "cell_type": "code",
   "execution_count": null,
   "metadata": {
    "vscode": {
     "languageId": "html"
    }
   },
   "outputs": [],
   "source": [
    "{% for element in my_list%}\n",
    "            {% if element | divisibleby:\"3\"%}\n",
    "            <p>{{element}}</p>"
   ]
  },
  {
   "cell_type": "markdown",
   "metadata": {},
   "source": [
    "# 5-2. Model\n",
    "- 모델은 데이터베이스 DB를 주로 관리한다.\n",
    "- Relational DB를 주로 사용 : Table형태 - `pd.DataFrame()`\n",
    "- `max()`, `groupby()` 적용\n",
    "- 특정 정보를 가져오는 정보를 가져오는 역할의 `SQL`\n",
    "- `Django`에서는 `SQL`과 상호작용 없이 데이터 관리할 수 있다. $\\to$ `ORM`\n",
    "- `ORM` : 객체중심.\n",
    "- 모델 관리 : `models.py`"
   ]
  },
  {
   "cell_type": "markdown",
   "metadata": {},
   "source": [
    "## 모델 생성하기\n",
    "- 필드 지정하기\n",
    "\n",
    "![Alt text](image-3.png)\n"
   ]
  },
  {
   "cell_type": "markdown",
   "metadata": {},
   "source": [
    "- models.py $\\to$ migration\n",
    "- migration 생성( git add .) :  `python manage.py makemigrations <app_name>`\n",
    "- migration 적용 ( git commit ) : `python manage.py migrate`\n",
    "- Relation DB 생성을 완료해준 것."
   ]
  },
  {
   "cell_type": "markdown",
   "metadata": {},
   "source": [
    "- 필드 생성 결과\n",
    "\n",
    "![Alt text](image-2.png)"
   ]
  },
  {
   "cell_type": "markdown",
   "metadata": {},
   "source": [
    "- obj이름 바꾸기\n",
    "\n",
    "![Alt text](image-4.png)"
   ]
  },
  {
   "cell_type": "code",
   "execution_count": null,
   "metadata": {},
   "outputs": [],
   "source": [
    "def __str__(self) -> str:\n",
    "        return self.name #객체의 이름 출력"
   ]
  },
  {
   "cell_type": "markdown",
   "metadata": {},
   "source": [
    "- Template으로 보이게 하기\n",
    "\n",
    "`views.py`에서 `.objects.all()`을 이용하여 객체들을 모두 가져오기"
   ]
  },
  {
   "cell_type": "markdown",
   "metadata": {},
   "source": [
    "- form 형태 추가하기\n"
   ]
  },
  {
   "cell_type": "markdown",
   "metadata": {},
   "source": [
    "- 저장 버튼 추가 : POST!\n",
    "\n",
    "CSRF 토큰 추가해야 함.\n",
    "![Alt text](image-6.png)"
   ]
  },
  {
   "cell_type": "code",
   "execution_count": null,
   "metadata": {
    "vscode": {
     "languageId": "html"
    }
   },
   "outputs": [],
   "source": [
    "<form method=\"POST\">{%csrf_token%}\n",
    "    {{ coffee_form.as_p}}\n",
    "    <button type=\"submit\">Save</button>\n",
    "</form>"
   ]
  },
  {
   "cell_type": "markdown",
   "metadata": {},
   "source": [
    "- 모델에 POST에 대한 정보 추가하기\n"
   ]
  },
  {
   "cell_type": "code",
   "execution_count": null,
   "metadata": {},
   "outputs": [],
   "source": [
    "if request.method ==\"POST\":\n",
    "    '''\n",
    "    만약 request가 POST :\n",
    "        POST를 바탕으로 Form을 완성.\n",
    "        Form이 유효 -> 저장\n",
    "    '''\n",
    "    form = CoffeeForm(request.POST) # 완성된 Form을 만들기\n",
    "    if form.is_valid(): # 채워진 form이 유효시, Model에 저장.\n",
    "        form.save()"
   ]
  },
  {
   "cell_type": "markdown",
   "metadata": {},
   "source": []
  }
 ],
 "metadata": {
  "language_info": {
   "name": "python"
  },
  "orig_nbformat": 4
 },
 "nbformat": 4,
 "nbformat_minor": 2
}
