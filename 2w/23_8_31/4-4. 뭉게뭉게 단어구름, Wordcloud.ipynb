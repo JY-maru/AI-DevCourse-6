{
 "cells": [
  {
   "cell_type": "markdown",
   "id": "f4862fe1-4398-4e1f-9e30-de4d98b2aec9",
   "metadata": {
    "tags": []
   },
   "source": [
    "## 4-4. 뭉게뭉게 단어구름, Wordcloud\n",
    "\n",
    "- wordcloud를 이용해서 텍스트 구름을 만들어봅시다."
   ]
  },
  {
   "cell_type": "markdown",
   "id": "819722b6-bedb-4812-9e45-d9c5b0c12143",
   "metadata": {},
   "source": [
    "### wordcloud 라이브러리\n",
    "\n",
    "`wordcloud`는 파이썬의 텍스트 클라우드 라이브러리입니다. 이를 기반으로 텍스트 구름을 그릴 수 있습니다.\n",
    "`konlpy`는 한국어 형태소 분석기 라이브러리로, 주어진 문장에서 명사 등을 뽑아 내는 데에 사용할 수 있습니다.\n",
    "\n",
    "우선, 이들을 사용하기 위해서 `pip`를 사용해 다운로드를 받아봅시다.\n",
    "\n",
    "> Tip: `%`를 이용해서 노트북(.ipynb) 환경에서 터미널 코드를 실행할 수 있습니다."
   ]
  },
  {
   "cell_type": "code",
   "execution_count": 1,
   "id": "57b90120-5617-42c8-b2fa-4736e58927a1",
   "metadata": {},
   "outputs": [
    {
     "name": "stdout",
     "output_type": "stream",
     "text": [
      "Collecting wordcloud\n",
      "  Downloading wordcloud-1.9.2.tar.gz (222 kB)\n",
      "\u001b[2K     \u001b[90m━━━━━━━━━━━━━━━━━━━━━━━━━━━━━━━━━━━━━━━\u001b[0m \u001b[32m222.8/222.8 kB\u001b[0m \u001b[31m1.2 MB/s\u001b[0m eta \u001b[36m0:00:00\u001b[0ma \u001b[36m0:00:01\u001b[0m\n",
      "\u001b[?25h  Preparing metadata (setup.py) ... \u001b[?25ldone\n",
      "\u001b[?25hRequirement already satisfied: numpy>=1.6.1 in /Users/jykim/opt/anaconda3/envs/DevCourse_6/lib/python3.10/site-packages (from wordcloud) (1.25.2)\n",
      "Requirement already satisfied: pillow in /Users/jykim/opt/anaconda3/envs/DevCourse_6/lib/python3.10/site-packages (from wordcloud) (10.0.0)\n",
      "Requirement already satisfied: matplotlib in /Users/jykim/opt/anaconda3/envs/DevCourse_6/lib/python3.10/site-packages (from wordcloud) (3.7.2)\n",
      "Requirement already satisfied: contourpy>=1.0.1 in /Users/jykim/opt/anaconda3/envs/DevCourse_6/lib/python3.10/site-packages (from matplotlib->wordcloud) (1.1.0)\n",
      "Requirement already satisfied: cycler>=0.10 in /Users/jykim/opt/anaconda3/envs/DevCourse_6/lib/python3.10/site-packages (from matplotlib->wordcloud) (0.11.0)\n",
      "Requirement already satisfied: fonttools>=4.22.0 in /Users/jykim/opt/anaconda3/envs/DevCourse_6/lib/python3.10/site-packages (from matplotlib->wordcloud) (4.42.1)\n",
      "Requirement already satisfied: kiwisolver>=1.0.1 in /Users/jykim/opt/anaconda3/envs/DevCourse_6/lib/python3.10/site-packages (from matplotlib->wordcloud) (1.4.5)\n",
      "Requirement already satisfied: packaging>=20.0 in /Users/jykim/opt/anaconda3/envs/DevCourse_6/lib/python3.10/site-packages (from matplotlib->wordcloud) (23.1)\n",
      "Requirement already satisfied: pyparsing<3.1,>=2.3.1 in /Users/jykim/opt/anaconda3/envs/DevCourse_6/lib/python3.10/site-packages (from matplotlib->wordcloud) (3.0.9)\n",
      "Requirement already satisfied: python-dateutil>=2.7 in /Users/jykim/opt/anaconda3/envs/DevCourse_6/lib/python3.10/site-packages (from matplotlib->wordcloud) (2.8.2)\n",
      "Requirement already satisfied: six>=1.5 in /Users/jykim/opt/anaconda3/envs/DevCourse_6/lib/python3.10/site-packages (from python-dateutil>=2.7->matplotlib->wordcloud) (1.16.0)\n",
      "Building wheels for collected packages: wordcloud\n",
      "  Building wheel for wordcloud (setup.py) ... \u001b[?25ldone\n",
      "\u001b[?25h  Created wheel for wordcloud: filename=wordcloud-1.9.2-cp310-cp310-macosx_11_0_arm64.whl size=152486 sha256=9bf6452a3539f9a617a36fdb25fca56c14a7d02bffd3687bd7b31bcd78f27402\n",
      "  Stored in directory: /Users/jykim/Library/Caches/pip/wheels/56/72/cc/86d8dbd1e3a8ef5470177cf6a4d25ec3cbebac55402e0ff4f0\n",
      "Successfully built wordcloud\n",
      "Installing collected packages: wordcloud\n",
      "Successfully installed wordcloud-1.9.2\n",
      "Note: you may need to restart the kernel to use updated packages.\n",
      "Collecting konlpy\n",
      "  Using cached konlpy-0.6.0-py2.py3-none-any.whl (19.4 MB)\n",
      "Collecting JPype1>=0.7.0 (from konlpy)\n",
      "  Using cached JPype1-1.4.1-cp310-cp310-macosx_10_9_universal2.whl (590 kB)\n",
      "Collecting lxml>=4.1.0 (from konlpy)\n",
      "  Downloading lxml-4.9.3.tar.gz (3.6 MB)\n",
      "\u001b[2K     \u001b[90m━━━━━━━━━━━━━━━━━━━━━━━━━━━━━━━━━━━━━━━━\u001b[0m \u001b[32m3.6/3.6 MB\u001b[0m \u001b[31m35.3 MB/s\u001b[0m eta \u001b[36m0:00:00\u001b[0ma \u001b[36m0:00:01\u001b[0m\n",
      "\u001b[?25h  Preparing metadata (setup.py) ... \u001b[?25ldone\n",
      "\u001b[?25hRequirement already satisfied: numpy>=1.6 in /Users/jykim/opt/anaconda3/envs/DevCourse_6/lib/python3.10/site-packages (from konlpy) (1.25.2)\n",
      "Requirement already satisfied: packaging in /Users/jykim/opt/anaconda3/envs/DevCourse_6/lib/python3.10/site-packages (from JPype1>=0.7.0->konlpy) (23.1)\n",
      "Building wheels for collected packages: lxml\n",
      "  Building wheel for lxml (setup.py) ... \u001b[?25ldone\n",
      "\u001b[?25h  Created wheel for lxml: filename=lxml-4.9.3-cp310-cp310-macosx_11_0_arm64.whl size=1604993 sha256=fcb23046ac9cc0fe62231f1bd91ad0ab389497330a2128e2388e1b133a519cc1\n",
      "  Stored in directory: /Users/jykim/Library/Caches/pip/wheels/38/0b/56/fd5ffdd76481c9220a131ff39258963d8384599f0109b688d0\n",
      "Successfully built lxml\n",
      "Installing collected packages: lxml, JPype1, konlpy\n",
      "Successfully installed JPype1-1.4.1 konlpy-0.6.0 lxml-4.9.3\n",
      "Note: you may need to restart the kernel to use updated packages.\n"
     ]
    }
   ],
   "source": [
    "%pip install wordcloud\n",
    "%pip install konlpy"
   ]
  },
  {
   "cell_type": "markdown",
   "id": "f2a4c12d-ce72-4334-997d-8424f01bccb6",
   "metadata": {},
   "source": [
    "설치를 다 진행했다면, 이제 `wordcloud` 라이브러리를 사용할 준비가 되었습니다."
   ]
  },
  {
   "cell_type": "markdown",
   "id": "21cda704-06c6-4de4-83a7-f77fbeec5728",
   "metadata": {},
   "source": [
    "### Wordcloud 만들기\n",
    "\n",
    "WordCloud를 만드는 방법은 다음과 같습니다.\n",
    "\n",
    "1. KoNLPy 라이브러리로 한국어 문장을 전처리\n",
    "2. Counter를 이용해 빈도수 측정. `키워드 : 명사`만 추출\n",
    "3. WordCloud를 이용해 시각화\n",
    "\n",
    "이 흐름대로 시각화를 진행해보도록 하겠습니다."
   ]
  },
  {
   "cell_type": "code",
   "execution_count": 3,
   "id": "e1e6514c",
   "metadata": {},
   "outputs": [],
   "source": [
    "# 텍스트 구름을 그리기 위해 필요한 라이브러리를 불러와봅시다.\n",
    "\n",
    "# 시각화에 쓰이는 라이브러리\n",
    "import matplotlib.pyplot as plt\n",
    "from wordcloud import WordCloud\n",
    "\n",
    "# 횟수를 기반으로 딕셔너리 생성\n",
    "from collections import Counter\n",
    "\n",
    "# 문장에서 명사를 추출하는 형태소 분석 라이브러리\n",
    "from konlpy.tag import Hannanum"
   ]
  },
  {
   "cell_type": "code",
   "execution_count": 4,
   "id": "dcb62efe-d71d-4259-a2a4-0d40999bc00c",
   "metadata": {},
   "outputs": [],
   "source": [
    "# 워드클라우드를 만드는 데 사용할 애국가 가사입니다.\n",
    "\n",
    "national_anthem = \"\"\"\n",
    "동해물과 백두산이 마르고 닳도록\n",
    "하느님이 보우하사 우리나라 만세\n",
    "무궁화 삼천리 화려 강산\n",
    "대한 사람 대한으로 길이 보전하세\n",
    "남산 위에 저 소나무 철갑을 두른 듯\n",
    "바람 서리 불변함은 우리 기상일세\n",
    "무궁화 삼천리 화려 강산\n",
    "대한 사람 대한으로 길이 보전하세\n",
    "가을 하늘 공활한데 높고 구름 없이\n",
    "밝은 달은 우리 가슴 일편단심일세\n",
    "무궁화 삼천리 화려 강산\n",
    "대한 사람 대한으로 길이 보전하세\n",
    "이 기상과 이 맘으로 충성을 다하여\n",
    "괴로우나 즐거우나 나라 사랑하세\n",
    "무궁화 삼천리 화려 강산\n",
    "대한 사람 대한으로 길이 보전하세\n",
    "\"\"\""
   ]
  },
  {
   "cell_type": "markdown",
   "id": "dd5ba7a4-394c-4cf7-81f1-a33525d7a3ea",
   "metadata": {},
   "source": [
    "형태소 분석기 객체를 사용해서 주어진 문자열에서 명사를 추출해봅시다.\n",
    "- `noun()`"
   ]
  },
  {
   "cell_type": "code",
   "execution_count": 5,
   "id": "893de2a4-b5a2-4d0f-bcc3-5cf59f7ccbdf",
   "metadata": {},
   "outputs": [
    {
     "data": {
      "text/plain": [
       "['동해물', '백두산', '하느님', '보우하사', '우리나라', '무궁화', '삼천리', '강산', '사람', '대한']"
      ]
     },
     "execution_count": 5,
     "metadata": {},
     "output_type": "execute_result"
    }
   ],
   "source": [
    "# Hannanum 객체를 생성한 후, .nouns()를 통해 명사를 추출합니다.\n",
    "\n",
    "hannanum = Hannanum()\n",
    "nouns = hannanum.nouns(national_anthem)\n",
    "words = [noun for noun in nouns if len(noun) > 1]\n",
    "\n",
    "words[:10]"
   ]
  },
  {
   "cell_type": "markdown",
   "id": "ca3529d0-d9ee-4ab9-9bbd-9fba6a1a9e9c",
   "metadata": {},
   "source": [
    "**Java가 설치되어있지 않은 경우, 실행 중 오류가 발생할 수 있습니다.**  \n",
    "[이 링크](https://www.oracle.com/java/technologies/downloads/)에서 여러분의 환경에 맞는 Java를 설치하신 후, 이후 과정을 따라와주세요."
   ]
  },
  {
   "cell_type": "code",
   "execution_count": 6,
   "id": "249801ed-2c6e-4c92-bfc1-aee131d2e197",
   "metadata": {},
   "outputs": [
    {
     "data": {
      "text/plain": [
       "Counter({'무궁화': 4,\n",
       "         '삼천리': 4,\n",
       "         '강산': 4,\n",
       "         '사람': 4,\n",
       "         '대한': 4,\n",
       "         '보전하세': 4,\n",
       "         '우리': 2,\n",
       "         '동해물': 1,\n",
       "         '백두산': 1,\n",
       "         '하느님': 1,\n",
       "         '보우하사': 1,\n",
       "         '우리나라': 1,\n",
       "         '남산': 1,\n",
       "         '소나무': 1,\n",
       "         '철갑': 1,\n",
       "         '불변': 1,\n",
       "         '기상일세': 1,\n",
       "         '하늘': 1,\n",
       "         '공활한데': 1,\n",
       "         '구름': 1,\n",
       "         '가슴': 1,\n",
       "         '일편단심일세': 1,\n",
       "         '기상': 1,\n",
       "         '충성': 1,\n",
       "         '사랑하세': 1})"
      ]
     },
     "execution_count": 6,
     "metadata": {},
     "output_type": "execute_result"
    }
   ],
   "source": [
    "# counter를 이용해 각 단어의 개수를 세줍니다.\n",
    "\n",
    "counter = Counter(words)\n",
    "counter"
   ]
  },
  {
   "cell_type": "code",
   "execution_count": 7,
   "id": "29b20ded-257a-4ac7-8d7f-2a6ee8b8afdf",
   "metadata": {},
   "outputs": [
    {
     "data": {
      "text/plain": [
       "<matplotlib.image.AxesImage at 0x11fb53520>"
      ]
     },
     "execution_count": 7,
     "metadata": {},
     "output_type": "execute_result"
    },
    {
     "data": {
      "image/png": "[encoded data removed]",
      "text/plain": [
       "<Figure size 640x480 with 1 Axes>"
      ]
     },
     "metadata": {},
     "output_type": "display_data"
    }
   ],
   "source": [
    "# WordCloud를 이용해 텍스트 구름을 만들어봅시다.\n",
    "\n",
    "wordcl = WordCloud()\n",
    "img = wordcl.generate_from_frequencies(counter)\n",
    "plt.imshow(img)"
   ]
  },
  {
   "cell_type": "code",
   "execution_count": null,
   "id": "ea452dd8",
   "metadata": {},
   "outputs": [],
   "source": [
    "# 한국어 폰트 설정하기\n"
   ]
  },
  {
   "cell_type": "markdown",
   "id": "6f90cd6c-9267-4c18-b3ac-301f91006737",
   "metadata": {},
   "source": [
    "간단한 사용법을 확인했으니, 이제 이를 활용해서 스크래핑과 함께 사용해봅시다!"
   ]
  }
 ],
 "metadata": {
  "kernelspec": {
   "display_name": "Python 3 (ipykernel)",
   "language": "python",
   "name": "python3"
  },
  "language_info": {
   "codemirror_mode": {
    "name": "ipython",
    "version": 3
   },
   "file_extension": ".py",
   "mimetype": "text/x-python",
   "name": "python",
   "nbconvert_exporter": "python",
   "pygments_lexer": "ipython3",
   "version": "3.10.12"
  }
 },
 "nbformat": 4,
 "nbformat_minor": 5
}
