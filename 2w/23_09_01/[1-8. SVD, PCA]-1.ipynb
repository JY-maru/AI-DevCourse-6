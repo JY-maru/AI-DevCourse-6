{
  "cells": [
    {
      "cell_type": "markdown",
      "metadata": {},
      "source": [
        "# 선형시스템\n",
        "1. 선형 결합 : $Ax = b$에서 A의 열벡터를 기저로 b를 표현하는 좌표값 x를 찾음\n",
        "2. 선형변환 : 행렬은 함수다"
      ]
    },
    {
      "cell_type": "markdown",
      "metadata": {},
      "source": [
        "- 선형함수는 행렬로 표현이 가능하다. (ex. convolution,역전파)\n",
        "---"
      ]
    },
    {
      "cell_type": "markdown",
      "metadata": {},
      "source": [
        "함수 : input에 대한 어떤 `기능`을 수행하여 output가 나옴\n",
        "\n",
        "- 함수는 두 집합 간의 맵핑룰이다.\n",
        "- $f : D(정의역) \\to C(공역)$\n",
        "\n",
        "---\n"
      ]
    },
    {
      "cell_type": "markdown",
      "metadata": {},
      "source": [
        "함수 $f$가 다음 두가지 조건을 만족하면 `선형함수`이다.\n",
        "\n",
        "$\n",
        "\\begin{cases}\n",
        "f(x+y) = f(x) + f(y) \\\\\n",
        "f(cx) = c\\cdot f(x)\n",
        "\\end{cases}\n",
        "$\n",
        "\n",
        "- 임의 두 입력에 대해 덧셈과 곱셈에 대해 닫혀있다면, 선형함수라고 표현할 수 있다.\n",
        "\n",
        "---\n"
      ]
    },
    {
      "cell_type": "markdown",
      "metadata": {},
      "source": [
        "#### 변환 : Transformation\n",
        "\n",
        "함수의 입력이 $n$차원 벡터이며, 출력이 $m$차원 벡터인 함수 $T$가 존재한다고 하자. 이처럼 함수의 입출력이 벡터인 함수를 변환이라고 한다.\n",
        "\n",
        "$n=m$인 경우, 해당 변환을 **연산자(operator)**라고 한다.\n",
        "\n",
        " ex. MNIST 손글씨 인식 문제\n",
        "- INPUT : $28\\times 28$해상도 이미지\n",
        "- OUTPUT : 0~9사이 어떤 숫자인지 판단.\n",
        "\n",
        "이를 다음과 같은 선형변환으로 해석할 수 있다.\n",
        "\n",
        "$T : R^{28\\times 28} \\to R^{10}$\n",
        "\n",
        "---"
      ]
    },
    {
      "cell_type": "markdown",
      "metadata": {},
      "source": [
        "#### 행렬변환\n",
        "\n",
        "$m \\times n$행렬 $A$에 대해 $Ax$는 $n$차원 벡터를 입력받아 $m$차원 벡터를 출력으로 내는 `변환`으로 볼 수 있다. 이처럼 행렬이 정의하는 행렬을 `행렬변환`이라고 한다.\n",
        "\n",
        "$T_A = R^n \\to R^m$\n",
        "\n",
        "행렬 변환은 선형변환이다. \n",
        "\n",
        "$\n",
        "\\begin{cases}\n",
        "T_A(x+y) = T_A(x) + T_A(y) \\\\\n",
        "T_A(cx) = c\\cdot T_A(x)\n",
        "\\end{cases}\n",
        "$\n",
        "\n",
        "`행렬은 선형변환이며, 모든 선형변환은 행렬로 표현 가능하다!`"
      ]
    },
    {
      "cell_type": "markdown",
      "metadata": {},
      "source": [
        "### 행렬 변환 코딩\n",
        "1. 구현하고자 하는 기능이 입력과 출력이 벡터로 정의되는지 확인.\n",
        "2. 구현하고자 하는 기능이 선형인지 확인\n",
        "3. 입력이 n차원 벡터, 출력이 m차원 벡터이면, $m\\times n$ **표준행렬**을 구성한다.\n",
        "\n",
        "---"
      ]
    },
    {
      "cell_type": "markdown",
      "metadata": {},
      "source": [
        "#### 예제 1\n",
        "2차원 벡터를 입력으로 받아 해당 벡터를 x축으로 정사영하는 기능 구현\n",
        "\n",
        "- input - output : 모두 벡터이므로 변환이다.\n",
        "\n",
        "$A_{2\\times 2}, T_A(x) = Ax, (3,2) \\to (3,0)$\n",
        "\n",
        "출력에 대해,\n",
        "$\n",
        "\\begin{pmatrix}3\\\\0\n",
        "\\end{pmatrix}= 3\\begin{pmatrix}e_1\n",
        "\\end{pmatrix} + 2\\begin{pmatrix}e_2\n",
        "\\end{pmatrix}\n",
        "$으로 표현할 수 있다.\n",
        "\n",
        "$\\therefore  A = \\begin{pmatrix}1&0 \\\\ 0&0\n",
        "\\end{pmatrix} (\\because e_1 = \\begin{pmatrix}1 \\\\ 0\n",
        "\\end{pmatrix}, e_2 = \\begin{pmatrix}0 \\\\ 0\n",
        "\\end{pmatrix})$\n",
        "\n",
        "---\n"
      ]
    },
    {
      "cell_type": "markdown",
      "metadata": {},
      "source": [
        "#### 예제 2\n",
        "2차원 벡터를 입력으로 받아, 해당 벡터를 반시계방향으로 $θ$만큼 회전하는 기능 구현.\n",
        "- input - output : 모두 벡터이므로 변환 $ A_{2\\times 2}$\n",
        "\n",
        " $T_A(x) = Ax, (T_A((1,0)) \\to (cosθ, sinθ)$\n",
        "\n",
        "- 정의역의 기저벡터 $\\begin{pmatrix} 1\\\\0\n",
        " \\end{pmatrix}$를 θ만큼 이동시킨 벡터 $\\begin{pmatrix} cosθ\\\\sinθ\n",
        " \\end{pmatrix}$\n",
        "\n",
        "- 정의역의 기저벡터 $\\begin{pmatrix} 0\\\\1\n",
        " \\end{pmatrix}$를 θ만큼 이동시킨 벡터 $\\begin{pmatrix} cos(θ+90)\\\\sin(θ+90)\n",
        " \\end{pmatrix}$\n",
        " \n",
        " \n",
        " $\n",
        " \\therefore A = \n",
        " \\begin{pmatrix} cosθ & -sinθ \\\\\n",
        "sinθ &cosθ\n",
        " \\end{pmatrix}\n",
        " $\n"
      ]
    },
    {
      "cell_type": "code",
      "execution_count": null,
      "metadata": {},
      "outputs": [],
      "source": []
    },
    {
      "cell_type": "code",
      "execution_count": null,
      "metadata": {},
      "outputs": [],
      "source": []
    },
    {
      "cell_type": "code",
      "execution_count": null,
      "metadata": {},
      "outputs": [],
      "source": []
    },
    {
      "cell_type": "markdown",
      "metadata": {
        "id": "avi-EXcIa6gS"
      },
      "source": [
        "# SVD"
      ]
    },
    {
      "cell_type": "code",
      "execution_count": null,
      "metadata": {
        "id": "dQa0lGJnbH9u"
      },
      "outputs": [],
      "source": [
        "import numpy as np"
      ]
    },
    {
      "cell_type": "code",
      "execution_count": null,
      "metadata": {
        "id": "2SOcUB5Qa6Xw"
      },
      "outputs": [],
      "source": [
        "A = np.array([[1, 1], [-2, 2], [-1, -1]])\n",
        "\n",
        "print(\"A:\")\n",
        "print(A)"
      ]
    },
    {
      "cell_type": "code",
      "execution_count": null,
      "metadata": {
        "id": "XfghmJpIa6UJ"
      },
      "outputs": [],
      "source": [
        "U = np.array([[1/1.414, 0, 1/1.414], [0, 1, 0], [-1/1.414, 0, 1/1.414]])\n",
        "\n",
        "UU = U[:,:1]\n",
        "\n",
        "print(\"U:\")\n",
        "print(U)\n",
        "print(\"UU:\")\n",
        "print(UU)"
      ]
    },
    {
      "cell_type": "code",
      "execution_count": null,
      "metadata": {
        "id": "KNN45vGga6Q4"
      },
      "outputs": [],
      "source": [
        "D = np.array([[4, 0], [0, 1/1.414], [0, 0]])\n",
        "\n",
        "DD = D[:1,:1]\n",
        "\n",
        "print(\"D\")\n",
        "print(D)\n",
        "\n",
        "print(\"DD\")\n",
        "print(DD)"
      ]
    },
    {
      "cell_type": "code",
      "execution_count": null,
      "metadata": {
        "id": "yCnrzLTMa6N-"
      },
      "outputs": [],
      "source": [
        "Vt = np.array([[1/1.414, 1/1.414], [-1/1.414, 1/1.414]])\n",
        "\n",
        "VVt = Vt[:1,:]\n",
        "\n",
        "print(\"Vt\")\n",
        "print(Vt)\n",
        "\n",
        "print(\"VVt\")\n",
        "print(VVt)"
      ]
    },
    {
      "cell_type": "code",
      "execution_count": null,
      "metadata": {
        "id": "j3arPWcNa6LG"
      },
      "outputs": [],
      "source": [
        "AA = U @ D @ Vt\n",
        "\n",
        "print(\"AA\")\n",
        "print(AA)"
      ]
    },
    {
      "cell_type": "code",
      "execution_count": null,
      "metadata": {
        "id": "MO8h6wSya6IG"
      },
      "outputs": [],
      "source": [
        "UU @ DD @ VVt"
      ]
    },
    {
      "cell_type": "markdown",
      "metadata": {
        "id": "YuJNNAftauIV"
      },
      "source": [
        "# PCA"
      ]
    },
    {
      "cell_type": "code",
      "execution_count": null,
      "metadata": {
        "colab": {
          "base_uri": "https://localhost:8080/"
        },
        "id": "dMkS6DLfbRik",
        "outputId": "10cb534d-08b9-4611-93ac-34af63207f34"
      },
      "outputs": [
        {
          "data": {
            "text/plain": [
              "PCA(copy=True, iterated_power='auto', n_components=2, random_state=None,\n",
              "    svd_solver='auto', tol=0.0, whiten=False)"
            ]
          },
          "execution_count": 1,
          "metadata": {
            "tags": []
          },
          "output_type": "execute_result"
        }
      ],
      "source": [
        "import numpy as np\n",
        "from sklearn.decomposition import PCA\n",
        "\n",
        "X = np.array([[-1, -1], [-2, -1], [-3, -2], [1, 1], [2, 1], [3, 2]])\n",
        "pca = PCA(n_components=2)\n",
        "pca.fit(X)\n"
      ]
    },
    {
      "cell_type": "code",
      "execution_count": null,
      "metadata": {
        "colab": {
          "base_uri": "https://localhost:8080/"
        },
        "id": "urQ_9bcZb0WO",
        "outputId": "50e52323-d40a-4836-a0b4-1ccb00d5d45d"
      },
      "outputs": [
        {
          "name": "stdout",
          "output_type": "stream",
          "text": [
            "[0.99244289 0.00755711]\n"
          ]
        }
      ],
      "source": [
        "print(pca.explained_variance_ratio_)\n"
      ]
    },
    {
      "cell_type": "code",
      "execution_count": null,
      "metadata": {
        "colab": {
          "base_uri": "https://localhost:8080/"
        },
        "id": "s2AbqvSKcBnl",
        "outputId": "72e59550-f93f-464f-c37b-0d2f598bc2f8"
      },
      "outputs": [
        {
          "name": "stdout",
          "output_type": "stream",
          "text": [
            "[6.30061232 0.54980396]\n"
          ]
        }
      ],
      "source": [
        "print(pca.singular_values_)"
      ]
    },
    {
      "cell_type": "code",
      "execution_count": null,
      "metadata": {
        "colab": {
          "base_uri": "https://localhost:8080/"
        },
        "id": "dSvdHJtvcEI1",
        "outputId": "2386806a-f1dc-41fa-d55c-67257175c4eb"
      },
      "outputs": [
        {
          "name": "stdout",
          "output_type": "stream",
          "text": [
            "[[-0.83849224 -0.54491354]\n",
            " [ 0.54491354 -0.83849224]]\n"
          ]
        }
      ],
      "source": [
        "print(pca.components_)\n"
      ]
    },
    {
      "cell_type": "code",
      "execution_count": null,
      "metadata": {
        "id": "2PAvKSbIdQE-"
      },
      "outputs": [],
      "source": []
    }
  ],
  "metadata": {
    "colab": {
      "collapsed_sections": [],
      "name": "[1-8. SVD, PCA]-1",
      "provenance": []
    },
    "kernelspec": {
      "display_name": "Python 3",
      "name": "python3"
    }
  },
  "nbformat": 4,
  "nbformat_minor": 0
}
