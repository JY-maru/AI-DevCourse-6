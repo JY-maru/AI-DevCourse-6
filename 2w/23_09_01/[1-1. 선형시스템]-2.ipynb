{
  "cells": [
    {
      "cell_type": "markdown",
      "metadata": {
        "id": "Fn6NoDwPmhNs"
      },
      "source": [
        "# 인공지능 수학 - 선형대수 (NumPy 실습)\n",
        "## 행렬과 벡터의 코딩 및 연산"
      ]
    },
    {
      "cell_type": "code",
      "execution_count": 1,
      "metadata": {
        "id": "kvcJK1GfTqxA"
      },
      "outputs": [],
      "source": [
        "import numpy as np"
      ]
    },
    {
      "cell_type": "code",
      "execution_count": 19,
      "metadata": {
        "colab": {
          "base_uri": "https://localhost:8080/"
        },
        "id": "SqWHFBWsT3K7",
        "outputId": "14340910-36bb-49f8-aa9f-b21317db6156"
      },
      "outputs": [
        {
          "name": "stdout",
          "output_type": "stream",
          "text": [
            "[[ 3  1  1]\n",
            " [ 1 -2 -1]\n",
            " [ 1  1  1]]\n",
            "(3, 3)\n",
            "[[ 3  1  1]\n",
            " [ 1 -2  1]\n",
            " [ 1 -1  1]]\n"
          ]
        }
      ],
      "source": [
        "# 행렬 코딩\n",
        "A = np.array([[3, 1, 1], [1, -2, -1], [1, 1, 1]])\n",
        "\n",
        "print(A)\n",
        "print(np.shape(A))\n",
        "print(A.T)"
      ]
    },
    {
      "cell_type": "code",
      "execution_count": 12,
      "metadata": {
        "colab": {
          "base_uri": "https://localhost:8080/"
        },
        "id": "YFVDrsxxh6gc",
        "outputId": "d210a227-4c4b-4d34-97e9-012349046822"
      },
      "outputs": [
        {
          "name": "stdout",
          "output_type": "stream",
          "text": [
            "[4 1 2]\n",
            "(3,)\n"
          ]
        }
      ],
      "source": [
        "# 벡터 코딩\n",
        "b = np.array([4, 1, 2])\n",
        "\n",
        "print(b)\n",
        "print(np.shape(b))"
      ]
    },
    {
      "cell_type": "code",
      "execution_count": 16,
      "metadata": {
        "colab": {
          "base_uri": "https://localhost:8080/"
        },
        "id": "vE5nVm9uiAC_",
        "outputId": "54996a00-3e20-416b-ec66-b09664b30cc0"
      },
      "outputs": [
        {
          "name": "stdout",
          "output_type": "stream",
          "text": [
            "[[-0.5  1.   1.5]\n",
            " [-1.   1.   2. ]\n",
            " [ 1.5 -2.  -2.5]]\n",
            "(3, 3)\n"
          ]
        }
      ],
      "source": [
        "# 역행렬 구하기\n",
        "A_inv = np.linalg.inv(A)\n",
        "\n",
        "print(A_inv)\n",
        "print(np.shape(A_inv))\n"
      ]
    },
    {
      "cell_type": "code",
      "execution_count": 5,
      "metadata": {
        "colab": {
          "base_uri": "https://localhost:8080/"
        },
        "id": "BcrQWuJ3iaFr",
        "outputId": "efc84757-893c-4988-e533-a7aed872de93"
      },
      "outputs": [
        {
          "name": "stdout",
          "output_type": "stream",
          "text": [
            "[ 1. -1.  2.]\n",
            "(3,)\n"
          ]
        }
      ],
      "source": [
        "# 역행렬을 이용한 선형시스템 Ax=b의 해 구하기\n",
        "# x = np.matmul(A_inv, b)\n",
        "x = A_inv @ b\n",
        "\n",
        "print(x)\n",
        "print(np.shape(x))"
      ]
    },
    {
      "cell_type": "code",
      "execution_count": 20,
      "metadata": {
        "colab": {
          "base_uri": "https://localhost:8080/"
        },
        "id": "fbHOxX5Ei1Bz",
        "outputId": "c99bf2a4-f89a-4776-a234-b9b732a04440"
      },
      "outputs": [
        {
          "name": "stdout",
          "output_type": "stream",
          "text": [
            "(3,)\n",
            "[4. 1. 2.]\n",
            "0.0\n",
            "Ok\n"
          ]
        }
      ],
      "source": [
        "## 결과 검증\n",
        "# bb = np.matmul(A, x)\n",
        "bb = A @ x \n",
        "\n",
        "print(np.shape(bb))\n",
        "print(bb)\n",
        "\n",
        "if np.linalg.norm(b - bb) < 1e-3:\n",
        "  \n",
        "  print(\"Ok\")\n",
        "else:\n",
        "  print(\"something wrong\")"
      ]
    },
    {
      "cell_type": "markdown",
      "metadata": {},
      "source": [
        "- 선형 방정식과 비선형 방정식\n",
        "\n",
        "    - $\\sin{x}+2$   -> 비선형방정식\n",
        "    - $2x + y = 3$  -> 선형방정식\n",
        "    - $xy + z = 3$  -> 비선형방정식"
      ]
    },
    {
      "cell_type": "markdown",
      "metadata": {},
      "source": [
        "- Linear System의 해 구하기\n",
        "\n",
        "    -  예시 1. $E_1$, $E_2$, $E_3$로 구성된 선형시스템\n",
        "\n",
        "- 가우스 소거법으로 해 구하기 \n",
        "\n",
        "$\n",
        "\\begin{cases}\n",
        "3x + y -z = 4\\\\\n",
        "x - 2y -z = 1\\\\\n",
        "x + y + z = 2\\\\\n",
        "\\end{cases} \\to\n",
        "\\begin{cases}\\begin{aligned}\n",
        "3x + y -z &= 4\\\\\n",
        "2x - y    &= 3\\\\\n",
        "x + y + z &= 2\\\\\n",
        "\\end{aligned}\\end{cases} \n",
        "$\n",
        "\n",
        "    "
      ]
    },
    {
      "cell_type": "markdown",
      "metadata": {},
      "source": [
        "- 선형시스템의 대수적 표현으로 해 구하기 : $Ax = b$ -> $x = A^{-1}b$\n",
        "        \n",
        "    $\n",
        "    \\begin{pmatrix}3&1&-1 \\\\1&-2&-1 \\\\ 1&1&1 \\end{pmatrix} \\begin{pmatrix}x \\\\y \\\\ z \\end{pmatrix} = \\begin{pmatrix} 4 \\\\1 \\\\2 \\end{pmatrix} \\to\n",
        "    \\begin{pmatrix}3&1&-1 \\\\1&-2&-1 \\\\ 1&1&1 \\end{pmatrix} \\begin{pmatrix}x \\\\y \\\\ z \\end{pmatrix} = \\begin{pmatrix} 4 \\\\1 \\\\2 \\end{pmatrix}\n",
        "    $"
      ]
    },
    {
      "cell_type": "code",
      "execution_count": 17,
      "metadata": {},
      "outputs": [
        {
          "name": "stdout",
          "output_type": "stream",
          "text": [
            "[[ 5.00000000e-01 -7.40148683e-17 -5.00000000e-01]\n",
            " [ 1.00000000e+00 -1.00000000e+00 -2.00000000e+00]\n",
            " [-1.50000000e+00  1.00000000e+00  3.50000000e+00]]\n"
          ]
        }
      ],
      "source": [
        "import numpy \n",
        "\n",
        "A = np.array([[3,1,1],[1,-2,-1],[1,1,1]])\n",
        "b = np.array([4,1,2])\n",
        "\n",
        "A_inverse = np.linalg.inv(A)\n",
        "print(A_inverse)"
      ]
    },
    {
      "cell_type": "code",
      "execution_count": 18,
      "metadata": {},
      "outputs": [
        {
          "name": "stdout",
          "output_type": "stream",
          "text": [
            "[ 1. -1.  2.]\n"
          ]
        }
      ],
      "source": [
        "x = A_inverse @ b\n",
        "\n",
        "print(x)"
      ]
    },
    {
      "cell_type": "markdown",
      "metadata": {},
      "source": [
        "$m\\times n$선형시스템의 $Ax = b$표현을 정리하면 다음과 같다.\n",
        "\n",
        "- 식은 행, 행은 식이다 (필요충분조건)\n",
        "- $m$은 선형방정식의 개수\n",
        "- $n$은 미지수의 개수\n",
        "- A는 $m\\times n$행렬\n",
        "- $x$는 $n$벡터\n",
        "- $b$는 $m$벡터\n",
        "\n",
        "---"
      ]
    },
    {
      "cell_type": "markdown",
      "metadata": {},
      "source": [
        "## 가우스 소거법 \n",
        "\n",
        "- 선형 시스템의 해 \n",
        "\n",
        "선형시스템 $ax=b$에 대해\n",
        "\n",
        "- a = 0이면 특이하다.(a의 행렬식이 0인 경우)\n",
        "- a의 역행렬이 존재하지 않는 경우, a가 `singular(특이)하다` \n",
        "- 해가 존재하면, 선형시스템이 `consistent`\n",
        "- 존재하지 않으면, 선형시스템이 `inconsistent`\n",
        "\n",
        "1. 해가 하나인 경우 `consistent`\n",
        "2. 해가 없는 경우    `inconsistent`\n",
        "3. 해가 여러개인 경우 `consistent`\n",
        "\n",
        "---"
      ]
    },
    {
      "cell_type": "markdown",
      "metadata": {},
      "source": [
        "\n",
        "#### Forward elimination(전방소거법)\n",
        "- 선형시스템을 아래로 갈수록 더 간단한 형태로 정리함 : A를 `상삼각행렬`로 만듦\n",
        "\n",
        "$\n",
        "    \\begin{pmatrix}3&1&-1 \\\\1&-2&-1 \\\\ 1&1&1 \\end{pmatrix} \\begin{pmatrix}x \\\\y \\\\ z \\end{pmatrix} = \\begin{pmatrix} 4 \\\\1 \\\\2 \\end{pmatrix} \\to\n",
        "    \\begin{pmatrix}a_1&a_2&a_3 \\\\0&a_4&a_5 \\\\ 0&0&a_6 \\end{pmatrix} \\begin{pmatrix}x \\\\y \\\\ z \\end{pmatrix} = \\begin{pmatrix} b_1 \\\\b_2 \\\\b_3 \\end{pmatrix}\n",
        "$\n",
        "\n",
        "#### back-substitution(후방대입법)\n",
        "- 아래부터 위로 미지수를 실제값으로 대체\n",
        "\n",
        "$\n",
        "\\begin{pmatrix}a_1&a_2&a_3 \\\\0&a_4&a_5 \\\\ 0&0&a_6 \\end{pmatrix} \\begin{pmatrix}x \\\\y \\\\ z \\end{pmatrix} = \\begin{pmatrix} b_1 \\\\b_2 \\\\b_3 \\end{pmatrix}\n",
        "$ 형태에서 $z \\to x$방향으로 해를 구해나갑니다.\n",
        "\n",
        "---"
      ]
    },
    {
      "cell_type": "markdown",
      "metadata": {},
      "source": [
        "- 소거법에서의 기본 행연산\n",
        "\n",
        "    - 치환 : i번째 행을 m배하여 j행에 더함\n",
        "    \n",
        "     $r_j \\larr r_j + m\\times r_i$\n",
        "\n",
        "    - 교환 : i행과 j행을 바꿈\n",
        "    - 스케일링 : 해당 행을 k배\n",
        "\n",
        "---\n"
      ]
    },
    {
      "cell_type": "markdown",
      "metadata": {},
      "source": [
        "#### forward elimination의 가치\n",
        "- 주어진 선형시스템을 해를 구하기 쉬운 형태\n",
        "- 선형시스템의 **rank**를 알 수 있다.\n",
        "- 선형시스템에 해가 존재하는지 ( consistent / inconsistent ) 여부를 알 수 있다.\n",
        "---\n",
        "\n",
        "rank : 독립인 행의 개수 (물론 열로 봐도 가능)\n",
        "\n",
        "`A가 독립이면 해가 반드시 존재한다.`"
      ]
    },
    {
      "cell_type": "markdown",
      "metadata": {},
      "source": []
    }
  ],
  "metadata": {
    "colab": {
      "collapsed_sections": [],
      "name": "[1-1. 선형시스템]-2",
      "provenance": []
    },
    "kernelspec": {
      "display_name": "Python 3",
      "name": "python3"
    },
    "language_info": {
      "codemirror_mode": {
        "name": "ipython",
        "version": 3
      },
      "file_extension": ".py",
      "mimetype": "text/x-python",
      "name": "python",
      "nbconvert_exporter": "python",
      "pygments_lexer": "ipython3",
      "version": "3.10.12"
    }
  },
  "nbformat": 4,
  "nbformat_minor": 0
}
