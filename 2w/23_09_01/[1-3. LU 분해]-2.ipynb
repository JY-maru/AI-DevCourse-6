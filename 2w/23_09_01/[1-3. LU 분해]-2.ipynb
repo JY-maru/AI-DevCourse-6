{
  "cells": [
    {
      "cell_type": "markdown",
      "metadata": {
        "id": "Fn6NoDwPmhNs"
      },
      "source": [
        "# 인공지능 수학 - 선형대수 (NumPy 실습)\n",
        "\n",
        "- 행렬 분해의 의미\n",
        "\n",
        "    ex. 인수분해\n",
        "    - `LU분해`\n",
        "    - `QR분해` \n",
        "    - `특이값 분해`(SVD : Singular Value Decomposition)\n",
        "    \n",
        "- `QR분해`, `특이값 분해` : 직교분할\n",
        "- LU분해 : 가우스 소거법, 행렬의 형태로.\n",
        "---"
      ]
    },
    {
      "cell_type": "markdown",
      "metadata": {},
      "source": [
        "## $A = LU$\n",
        "- $L$: 상삼각행렬\n",
        "- $U$: 하삼각행렬\n",
        "\n",
        "`즉 특정행렬 $A$를 상삼각행렬과 하삼각행렬로 나눔`\n",
        "---\n",
        "\n",
        "### LU분해의 장점 \n",
        "$Ax = b \\to (LU)x=b \\to L(Ux)=b \\to Ly=b (\\because Ux=y)$\n",
        "\n",
        "- 전방대치법(Forward-substitution) 활용\n",
        "$\n",
        "\\begin{pmatrix}l_1 & 0 & 0 \\\\l_2 & l_3 & 0 \\\\ l_4 & l_5 &l_6 \\end{pmatrix} \\begin{pmatrix}y_1 \\\\ y_2 \\\\ y_3 \\end{pmatrix} = \\begin{pmatrix} b_1 \\\\b_2 \\\\b_3 \\end{pmatrix}\n",
        "$\n",
        "\n",
        "여기서 구한 $y$로 $Ux = y$에 대입하여 $x$를 구함\n",
        "\n",
        "- 후방대치법(Backl-substitution) 활용\n",
        "$\n",
        "\\begin{pmatrix}u_1&u_2&u_3 \\\\0&u_4&u_5 \\\\ 0&0&u_6 \\end{pmatrix} \\begin{pmatrix}x \\\\y \\\\ z \\end{pmatrix} = \\begin{pmatrix} b_1 \\\\b_2 \\\\b_3 \\end{pmatrix}\n",
        "$\n",
        "---"
      ]
    },
    {
      "cell_type": "markdown",
      "metadata": {},
      "source": [
        "- $L$ : 행렬 `A`를 전방소거하는데 쓰인 replacement, scaling에 대한 행연산을 기록해둔 행렬\n",
        "- $U$ : 행렬 `A`를 전방소거 후 남은 상삼각행렬\n",
        "- $P$ : 행렬 `A`를 전방소거하는데 쓰인 행교환(interchange)에 대한 행연산을 기록해둔 행렬\n",
        "\n",
        "### LU 분해의 활용\n",
        "- 수치적 안정성 : $A^{-1}$를 활용할 때보다, $PLU$분해를 이용하는 것이 더 안정적이다. 역행렬 자체가 수치적으로 불안정할 때가 많음.\n",
        "- b가 자주 업데이트 됨 : $A \\to PLU$시 $b$가 자주 업데이트 된다고 하더라도 선형시스템의 해를 실시간으로 구할 수 있음.\n"
      ]
    },
    {
      "cell_type": "markdown",
      "metadata": {},
      "source": []
    },
    {
      "cell_type": "markdown",
      "metadata": {},
      "source": []
    },
    {
      "cell_type": "markdown",
      "metadata": {},
      "source": [
        "## LU 분해 (가우스 소거법), 행렬의 rank"
      ]
    },
    {
      "cell_type": "code",
      "execution_count": 2,
      "metadata": {},
      "outputs": [
        {
          "name": "stdout",
          "output_type": "stream",
          "text": [
            "Collecting scipy\n",
            "  Obtaining dependency information for scipy from https://files.pythonhosted.org/packages/63/b9/0344b60e7c577eb637785841222fde8ef7928ec4797be1a34ca39bfe31dc/scipy-1.11.2-cp310-cp310-macosx_12_0_arm64.whl.metadata\n",
            "  Downloading scipy-1.11.2-cp310-cp310-macosx_12_0_arm64.whl.metadata (100 kB)\n",
            "\u001b[2K     \u001b[90m━━━━━━━━━━━━━━━━━━━━━━━━━━━━━━━━━━━━━━━\u001b[0m \u001b[32m100.3/100.3 kB\u001b[0m \u001b[31m6.5 MB/s\u001b[0m eta \u001b[36m0:00:00\u001b[0m\n",
            "\u001b[?25hRequirement already satisfied: numpy<1.28.0,>=1.21.6 in /Users/jykim/opt/anaconda3/envs/DevCourse_6/lib/python3.10/site-packages (from scipy) (1.25.2)\n",
            "Downloading scipy-1.11.2-cp310-cp310-macosx_12_0_arm64.whl (29.6 MB)\n",
            "\u001b[2K   \u001b[90m━━━━━━━━━━━━━━━━━━━━━━━━━━━━━━━━━━━━━━━━\u001b[0m \u001b[32m29.6/29.6 MB\u001b[0m \u001b[31m34.6 MB/s\u001b[0m eta \u001b[36m0:00:00\u001b[0m00:01\u001b[0m00:01\u001b[0m\n",
            "\u001b[?25hInstalling collected packages: scipy\n",
            "Successfully installed scipy-1.11.2\n",
            "Note: you may need to restart the kernel to use updated packages.\n"
          ]
        }
      ],
      "source": [
        "%pip install scipy"
      ]
    },
    {
      "cell_type": "code",
      "execution_count": 3,
      "metadata": {
        "id": "kvcJK1GfTqxA"
      },
      "outputs": [],
      "source": [
        "import numpy as np\n",
        "import scipy        \n",
        "import scipy.linalg   # LU 분해를 사용하기 위한 import "
      ]
    },
    {
      "cell_type": "code",
      "execution_count": 4,
      "metadata": {
        "colab": {
          "base_uri": "https://localhost:8080/"
        },
        "id": "SqWHFBWsT3K7",
        "outputId": "33abcc6f-db20-4ee1-be79-10810f7f535d"
      },
      "outputs": [
        {
          "name": "stdout",
          "output_type": "stream",
          "text": [
            "A: [[ 3  1  1]\n",
            " [ 1 -2 -1]\n",
            " [ 1  1  1]]\n",
            "(3, 3)\n",
            "b: [4 1 2]\n",
            "(3,)\n"
          ]
        }
      ],
      "source": [
        "# 행렬 A, 벡터 b 코딩\n",
        "A = np.array([[3, 1, 1], [1, -2, -1], [1, 1, 1]])\n",
        "b = np.array([4, 1, 2])\n",
        "\n",
        "print(\"A:\", A)\n",
        "print(np.shape(A))\n",
        "\n",
        "print(\"b:\", b)\n",
        "print(np.shape(b))"
      ]
    },
    {
      "cell_type": "markdown",
      "metadata": {
        "id": "Qx_Um_GH55rF"
      },
      "source": [
        "LU 분해 결과 확인하기"
      ]
    },
    {
      "cell_type": "code",
      "execution_count": 5,
      "metadata": {
        "colab": {
          "base_uri": "https://localhost:8080/"
        },
        "id": "YYNV8UN-puA2",
        "outputId": "67f4bc7c-523e-4a31-e129-72ba1be261da"
      },
      "outputs": [
        {
          "name": "stdout",
          "output_type": "stream",
          "text": [
            "P: [[1. 0. 0.]\n",
            " [0. 1. 0.]\n",
            " [0. 0. 1.]]\n",
            "L: [[ 1.          0.          0.        ]\n",
            " [ 0.33333333  1.          0.        ]\n",
            " [ 0.33333333 -0.28571429  1.        ]]\n",
            "U: [[ 3.          1.          1.        ]\n",
            " [ 0.         -2.33333333 -1.33333333]\n",
            " [ 0.          0.          0.28571429]]\n",
            "AA: [[ 3.  1.  1.]\n",
            " [ 1. -2. -1.]\n",
            " [ 1.  1.  1.]]\n"
          ]
        }
      ],
      "source": [
        "# LU 분해의 결과를 각각 행렬로서 확인하기\n",
        "P, L, U = scipy.linalg.lu(A)\n",
        "\n",
        "print(\"P:\", P)\n",
        "print(\"L:\", L)\n",
        "print(\"U:\", U)\n",
        "\n",
        "AA = P @ L @ U\n",
        "print(\"AA:\", AA)"
      ]
    },
    {
      "cell_type": "markdown",
      "metadata": {
        "id": "7Qa-vPFD7QVw"
      },
      "source": [
        "LU 분해를 이용한 선형시스템 Ax = b 풀기\n"
      ]
    },
    {
      "cell_type": "code",
      "execution_count": 10,
      "metadata": {
        "colab": {
          "base_uri": "https://localhost:8080/"
        },
        "id": "YFVDrsxxh6gc",
        "outputId": "7f0e5d9e-2e87-4a34-9b45-62ed407f99be"
      },
      "outputs": [
        {
          "name": "stdout",
          "output_type": "stream",
          "text": [
            "[[ 3.          1.          1.        ]\n",
            " [ 0.33333333 -2.33333333 -1.33333333]\n",
            " [ 0.33333333 -0.28571429  0.28571429]] [0 1 2]\n",
            "x: [ 1. -1.  2.]\n",
            "(3,)\n",
            "bb: [4. 1. 2.]\n"
          ]
        }
      ],
      "source": [
        "# LU 분해\n",
        "# U의 상삼각부분과 L의 하삼각부분으로 이뤄짐. L의 대각 원소들은 포함하지 않음.\n",
        "# piv : i번째 행이 piv[i]로 교체됨.\n",
        "\n",
        "lu, piv = scipy.linalg.lu_factor(A)\n",
        "\n",
        "# (LU)x = b의 해를 구함\n",
        "x = scipy.linalg.lu_solve((lu, piv), b)\n",
        "# print(scipy.linalg.lu_solve(A, b))\n",
        "print(lu,piv)\n",
        "print(\"x:\", x)\n",
        "print(np.shape(x))\n",
        "\n",
        "bb = A@x\n",
        "print(\"bb:\", bb)\n"
      ]
    },
    {
      "cell_type": "markdown",
      "metadata": {
        "id": "3Bl3v__7_uqi"
      },
      "source": [
        "## 행렬의 rank 계산하기"
      ]
    },
    {
      "cell_type": "markdown",
      "metadata": {
        "id": "sbGGkQxzBI4T"
      },
      "source": [
        "'rank = 2'인 2x2 행렬 A\n"
      ]
    },
    {
      "cell_type": "code",
      "execution_count": null,
      "metadata": {
        "colab": {
          "base_uri": "https://localhost:8080/"
        },
        "id": "U2Eq5NVt_-wH",
        "outputId": "bf1093ab-eff6-4820-b1d9-e6d59ff2ddcd"
      },
      "outputs": [
        {
          "name": "stdout",
          "output_type": "stream",
          "text": [
            "A: [[ 1  3]\n",
            " [-2  1]]\n"
          ]
        }
      ],
      "source": [
        "A = np.array([[1, 3], [-2, 1]])\n",
        "print(\"A:\", A)"
      ]
    },
    {
      "cell_type": "markdown",
      "metadata": {},
      "source": [
        "`matrix_rand()`"
      ]
    },
    {
      "cell_type": "code",
      "execution_count": null,
      "metadata": {
        "colab": {
          "base_uri": "https://localhost:8080/"
        },
        "id": "0pE3s59nBHO_",
        "outputId": "2a8e1478-87e9-4179-b8e1-bf6d1f1b0ea1"
      },
      "outputs": [
        {
          "name": "stdout",
          "output_type": "stream",
          "text": [
            "rank: 2\n",
            "[[ 0.14285714 -0.42857143]\n",
            " [ 0.28571429  0.14285714]]\n"
          ]
        }
      ],
      "source": [
        "print(\"rank:\", np.linalg.matrix_rank(A))\n",
        "A_inv = np.linalg.inv(A)  \n",
        "\n",
        "print(A_inv)"
      ]
    },
    {
      "cell_type": "markdown",
      "metadata": {
        "id": "Ef5Y7F2sBPjr"
      },
      "source": [
        "'rank = 1'인 2x2 행렬 A"
      ]
    },
    {
      "cell_type": "code",
      "execution_count": null,
      "metadata": {
        "colab": {
          "base_uri": "https://localhost:8080/"
        },
        "id": "jJe0Im38ACVz",
        "outputId": "4036c661-f792-4753-c2ba-254bc72e967b"
      },
      "outputs": [
        {
          "name": "stdout",
          "output_type": "stream",
          "text": [
            "A: [[1 3]\n",
            " [2 6]]\n"
          ]
        }
      ],
      "source": [
        "A = np.array([[1, 3], [2, 6]])\n",
        "\n",
        "print(\"A:\", A)"
      ]
    },
    {
      "cell_type": "code",
      "execution_count": 11,
      "metadata": {
        "colab": {
          "base_uri": "https://localhost:8080/",
          "height": 396
        },
        "id": "Fg-9YGgUAgLc",
        "outputId": "cb506086-b349-46f9-9d86-a150094ef523"
      },
      "outputs": [
        {
          "name": "stdout",
          "output_type": "stream",
          "text": [
            "rank: 3\n"
          ]
        }
      ],
      "source": [
        "print(\"rank:\", np.linalg.matrix_rank(A))\n",
        "A_inv = np.linalg.inv(A)  "
      ]
    },
    {
      "cell_type": "code",
      "execution_count": 12,
      "metadata": {
        "colab": {
          "base_uri": "https://localhost:8080/"
        },
        "id": "Z4DEh2rMAy46",
        "outputId": "61ea62c6-b54a-41ef-effb-355dab917634"
      },
      "outputs": [
        {
          "name": "stdout",
          "output_type": "stream",
          "text": [
            "P: [[1. 0. 0.]\n",
            " [0. 1. 0.]\n",
            " [0. 0. 1.]]\n",
            "L: [[ 1.          0.          0.        ]\n",
            " [ 0.33333333  1.          0.        ]\n",
            " [ 0.33333333 -0.28571429  1.        ]]\n",
            "U: [[ 3.          1.          1.        ]\n",
            " [ 0.         -2.33333333 -1.33333333]\n",
            " [ 0.          0.          0.28571429]]\n",
            "AA: [[ 3.  1.  1.]\n",
            " [ 1. -2. -1.]\n",
            " [ 1.  1.  1.]]\n"
          ]
        }
      ],
      "source": [
        "# LU 분해의 결과를 각각 행렬로서 확인하기\n",
        "P, L, U = scipy.linalg.lu(A)\n",
        "\n",
        "print(\"P:\", P)\n",
        "print(\"L:\", L)\n",
        "print(\"U:\", U)\n",
        "\n",
        "AA = P @ L @ U\n",
        "print(\"AA:\", AA)"
      ]
    },
    {
      "cell_type": "code",
      "execution_count": 14,
      "metadata": {
        "colab": {
          "base_uri": "https://localhost:8080/"
        },
        "id": "5pUnbBz4B5N0",
        "outputId": "e34dd9e3-10ab-47c8-b1b4-8458701ede18"
      },
      "outputs": [
        {
          "name": "stdout",
          "output_type": "stream",
          "text": [
            "x: [ 0.5 -4.   4.5]\n",
            "(3,)\n"
          ]
        }
      ],
      "source": [
        "b = np.array([2, 4,1])\n",
        "# LU 분해\n",
        "lu, piv = scipy.linalg.lu_factor(A)\n",
        "x = scipy.linalg.lu_solve((lu, piv), b)\n",
        "\n",
        "print(\"x:\", x)\n",
        "print(np.shape(x))"
      ]
    },
    {
      "cell_type": "markdown",
      "metadata": {},
      "source": [
        "# 좌표계 변환"
      ]
    },
    {
      "cell_type": "markdown",
      "metadata": {},
      "source": [
        "#### $Ax = b$ 다시보기\n",
        "$Ax = (I)b$   \n",
        "\n",
        "- $A$ : 좌표계\n",
        "- $x$ : 좌표값\n",
        "- $I$ : 표준 좌표계\n",
        "- $b$ : 좌표값\n",
        "---"
      ]
    },
    {
      "cell_type": "markdown",
      "metadata": {},
      "source": [
        "- 벡터의 수학적 표현 : **좌표계를 도입**해서 시작점을 원점, 끝점의 위치를 벡터의 수학적 표현으로 정의했음.\n"
      ]
    },
    {
      "cell_type": "markdown",
      "metadata": {},
      "source": [
        "- 벡터의 좌표계로의 해석\n",
        "\n",
        "$\n",
        "v = \\begin{pmatrix} a \\\\ b \\end{pmatrix}\n",
        "= \\begin{pmatrix} 1 & 0 \\\\ 0 & 1 \\end{pmatrix} \\begin{pmatrix} a \\\\ b \\end{pmatrix}\n",
        "= a\\begin{pmatrix} 1 \\\\ 0 \\end{pmatrix} + b \\begin{pmatrix} 0 \\\\ 1 \\end{pmatrix}\n",
        "$\n",
        "\n",
        "- $a\\begin{pmatrix} 1 \\\\ 0 \\end{pmatrix}$ :  $x$축으로 내린 수선의 발. $x$축단위로 a번 전진\n",
        "\n",
        "- $b\\begin{pmatrix} 0 \\\\ 1 \\end{pmatrix}$ :  $y$축으로 내린 수선의 발. $y$축단위로 b번 전진\n",
        "---"
      ]
    },
    {
      "cell_type": "markdown",
      "metadata": {},
      "source": [
        "$4v_1 + 3v_2 = v$\n",
        "- $\n",
        "\\begin{aligned}\n",
        "\\begin{pmatrix} v_1 & v_2 \\end{pmatrix} \\begin{pmatrix} 4 \\\\ 3 \\end{pmatrix} &= v \\\\\n",
        "&= \\begin{pmatrix} e_1 & e_2 \\end{pmatrix} \\begin{pmatrix} a \\\\ b \\end{pmatrix}\n",
        "\\end{aligned}\n",
        "$\n",
        "처럼 볼 수 있다.\n",
        "\n",
        "`즉, 하나의 벡터에 대해` $e_1$`과` $e_2$`를 기저로 가지는 표준좌표계로 해석하여 좌표값`$(a,b)$`으로도 표현할 수 있고, `$v_1$`과` $v_2$`를 기저로 가지는 좌표계로 해석하여 좌표값` $(4,3)$`으로도 표현할 수 있다.`\n",
        "\n",
        "---"
      ]
    },
    {
      "cell_type": "markdown",
      "metadata": {},
      "source": [
        "#### $Ax = b$ 좌표계 변환으로 해석하기\n",
        "$Ax = (I)b$ : $b$를 기준으로 좌표계 해석\n",
        "\n",
        "Ex.\n",
        "$\n",
        "\\begin{pmatrix}1 & -1 \\\\ 2 & 2 \\end{pmatrix} \\begin{pmatrix} 2  \\\\ 1 \\end{pmatrix} = \\begin{pmatrix}1 \\\\ 6\\end{pmatrix} \n",
        "$\n",
        "\n",
        "- 어떤 벡터에 대해, 표준좌표계 기준 좌표값은 $\\begin{pmatrix}1 \\\\ 6\\end{pmatrix}$이다.\n",
        "- $\\begin{pmatrix}1 \\\\ 2 \\end{pmatrix}$와 $\\begin{pmatrix}-1 \\\\ 2 \\end{pmatrix}$를 기저로 가지는 좌표계에서 이 벡터에 대한 좌표값이 $\\begin{pmatrix} 2  \\\\ 1 \\end{pmatrix}$이다.\n",
        "\n",
        "#### 역향렬을 이용해 선형시스템의 해를 구할 때 좌표계 변환으로 바라보기\n",
        "$x = A^{-1}b \\to (I)x = A^{-1}b$  : $x$가 기준이 되어 동일하게 해석.\n",
        "\n",
        "이 때, $A^{-1}$가 **좌표계**가 되어 두 열백터를 기저로 좌표계를 나타내게 된다.\n",
        "\n",
        "---"
      ]
    },
    {
      "cell_type": "markdown",
      "metadata": {},
      "source": [
        "#### 정리\n",
        "행렬은 **좌표계**이며, 벡터는 **좌표값**이다.\n",
        "임의의 벡터 $v$는 다양한 좌표계로 해석할 수 있다. \n",
        "\n",
        "$\n",
        "\\begin{aligned}\n",
        "v &= A \\begin{bmatrix}v\\end{bmatrix}_A \\\\\n",
        "&= B \\begin{bmatrix}v\\end{bmatrix}_B\n",
        "\\end{aligned}\n",
        "$\n",
        "\n",
        "위 식에서, 하나의 벡터 $v$에 대해 좌표계 $A$를 기준으로 표현된 좌푯값 $v_A$와 좌표계 $B$를 기준으로 표현된 좌푯값 $v_B$를 알 수 있다.\n",
        "\n",
        "여기서, 좌표계 $A$에서 표현된 $v$인 $v_A$를 표준좌표계 위에 올려놓으면, $A^{-1}B$를 좌표계로 삼은 $v_B$좌표값이 나오고($\\because \\begin{bmatrix}v\\end{bmatrix}_A = A^{-1}B\\begin{bmatrix}v\\end{bmatrix}_B$), $\\\\$\n",
        "반대로 $v_B$를 표준좌표계 위에 올려놓으면, $B^{-1}A$를 좌표계로 삼은 $v_A$좌표값이 나온다.($\\because \\begin{bmatrix}v\\end{bmatrix}_B = B^{-1}A\\begin{bmatrix}v\\end{bmatrix}_A$\n",
        "\n",
        "---"
      ]
    },
    {
      "cell_type": "markdown",
      "metadata": {},
      "source": [
        "#### 예제 1\n",
        "어떤 벡터 $v$가 표준좌표계에서 $(2,1,3)$으로 표현된다.\n",
        "벡터 $(1,3,1)$과 $(1,-2,2)$를 기저벡터로 가지는 새로운 좌표계를 도입할 때, 벡터 $v$는 어떤 좌표값을 가지는가?\n",
        "\n",
        "$\n",
        "\\begin{pmatrix} 1 & 1 \\\\ 3 & -2 \\\\ 1 & 2 \n",
        "\\end{pmatrix}\\begin{pmatrix} x_1 \\\\ x_2\n",
        "\\end{pmatrix} = \\begin{pmatrix} 2 \\\\ 1 \\\\ 3\n",
        "\\end{pmatrix}\n",
        "$의 해를 구하는 문제.\n",
        "\n",
        "$\n",
        "\\therefore\\begin{pmatrix} x_1 \\\\ x_2\n",
        "\\end{pmatrix} = \\begin{pmatrix} 1 \\\\ 1\n",
        "\\end{pmatrix}\n",
        "$\n",
        "\n",
        "3차원 벡터 $\\begin{pmatrix} 2 \\\\ 1 \\\\ 3\n",
        "    \\end{pmatrix}$를 두 기저벡터로 표현(평면위에 있다고 봄)하여, $(1,1)$로 해석함."
      ]
    },
    {
      "cell_type": "code",
      "execution_count": null,
      "metadata": {},
      "outputs": [],
      "source": []
    },
    {
      "cell_type": "code",
      "execution_count": null,
      "metadata": {},
      "outputs": [],
      "source": [
        "\n"
      ]
    },
    {
      "cell_type": "markdown",
      "metadata": {},
      "source": []
    }
  ],
  "metadata": {
    "colab": {
      "name": "[1-3. LU 분해]-2",
      "provenance": []
    },
    "kernelspec": {
      "display_name": "Python 3",
      "name": "python3"
    },
    "language_info": {
      "codemirror_mode": {
        "name": "ipython",
        "version": 3
      },
      "file_extension": ".py",
      "mimetype": "text/x-python",
      "name": "python",
      "nbconvert_exporter": "python",
      "pygments_lexer": "ipython3",
      "version": "3.10.12"
    }
  },
  "nbformat": 4,
  "nbformat_minor": 0
}
