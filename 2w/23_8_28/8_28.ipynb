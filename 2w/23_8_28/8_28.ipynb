{
 "cells": [
  {
   "cell_type": "markdown",
   "metadata": {},
   "source": [
    "# 웹 스크래핑의 기초"
   ]
  },
  {
   "cell_type": "markdown",
   "metadata": {},
   "source": [
    "- 인터넷과 웹\n",
    "- 웹에서 정보 주고받기\n",
    "- http의 구조"
   ]
  },
  {
   "cell_type": "markdown",
   "metadata": {},
   "source": [
    "## 인터넷과 웹\n",
    "\n",
    "- 각 두 컴퓨터를 연결하는 네트워크(Network) \n",
    "- 네트워크를 근거리 단위로 묶은 근거리 지역 네트워크 (Local Area Network, LAN)\n",
    "- 범지구적으로 연결된 네트워크 Inter Network (Inter Net)\n",
    "- 인터넷에서 정보를 교환할 수 있는 환경 : www (World Wide Web)\n"
   ]
  },
  {
   "cell_type": "markdown",
   "metadata": {},
   "source": [
    "## 웹에서 정보 주고받기\n",
    "\n",
    "#### Example\n",
    "1. 손님이 직원에게 정보 요청\n",
    "2. 요청에 대한 직원의 처리\n",
    "3. 상황에 따라 직원이 손님에게 응답.\n",
    "- 신발이 있으면 있다. 없으면 없다.\n",
    "\n",
    "#### 적용\n",
    "- 클라이언트 : 정보를 요청하는 컴퓨터\n",
    "- 서버 : 정보를 제공하는 컴퓨터\n",
    "\n",
    "1. 클라이언트가 서버에게 정보 요청\n",
    "2. 요청에 대한 서버의 작업 수행 (O / X)\n",
    "3. 수행한 작업의 결과를 클라이언트에게 응답"
   ]
  },
  {
   "cell_type": "markdown",
   "metadata": {},
   "source": [
    "## HTTP의 구조\n",
    "Hypertext Transfer Protocoll\n",
    "\n",
    "- HTTP 요청(request) : 클라이언트 -> 서버에게 정보요청\n",
    "- HTTP 응답(Response) : 서버 -> 클라이언트에게 응답\n",
    "\n",
    "\n",
    "#### 구조\n",
    "- Head : 보내는 사람. 받는 사람\n",
    "- body : 내용물\n",
    "\n",
    "#### HTTP request - Keyword\n",
    "- GET : 정보요청\n",
    "- Host : 요청인 정보\n",
    "- User-Agent : 유저 PC 정보를 띄는 프로그램\n",
    "\n",
    "#### HTTP response - Keyword\n",
    "- Signal : OK(200), 404(Not Found), 505(Server Error)\n"
   ]
  },
  {
   "cell_type": "markdown",
   "metadata": {},
   "source": [
    "# 웹페이지와 HTML"
   ]
  },
  {
   "attachments": {
    "image.png": {
     "image/png": "[encoded data removed]"
    }
   },
   "cell_type": "markdown",
   "metadata": {},
   "source": [
    "- 웹페이지 : 웹 속에 있는 문서 하나 (프로그래머스 홈 창)\n",
    "- 웹사이트 : 웹페이지의 모음 \n",
    "\n",
    "    - 프로그래머스 \n",
    "    #\n",
    "        - 스쿨\n",
    "        - 코딩테스트 연습 \n",
    "    #\n",
    "\n",
    "#### 웹 브라우저\n",
    "- HTTP 요청의 Body\n",
    "![image.png](attachment:image.png)\n",
    "\n",
    "- 웹브라우저(edge, chrome, ...)는 HTML request를 보내고, HTTP 응답에 담긴 HTML 문서를 보기 쉬운 화면을 그려주는 형태로 볼 수 있게 해주게 됨."
   ]
  },
  {
   "cell_type": "markdown",
   "metadata": {},
   "source": [
    "## HTML의 구조 (HyperText Markup Language)\n",
    "\n",
    "- HyperText : 링크기능 - 한 웹페이지에서 다른 웹페이지로 넘어갈 수 있는 기능.\n",
    "- \\<!DOCTYPE html\\> : html5"
   ]
  },
  {
   "cell_type": "markdown",
   "metadata": {},
   "source": [
    "- HTML은 head와 body로 이루어져 있다.\n",
    "    - head : 문서 제목\n",
    "    - body : 문서의 내용 (글, 이미지, 동영상)\n",
    "- HTML은 여러 태그(tag)로 감싼 요소(element)의 집합\n",
    "\n",
    "---\n",
    "\n",
    "```html\n",
    "<!DOCTYPE html>\n",
    "<html> : 여는 태그 \n",
    "    <head>\n",
    "        <title>Example Document</title>\n",
    "    </head>\n",
    "    <body>\n",
    "        <h1>Hello World!</h1>\n",
    "        <p>My name is JeongYeon!</p>\n",
    "    </head>\n",
    "</html> : 닫는 태그 - 감싸진 부분 : element\n",
    "```"
   ]
  },
  {
   "cell_type": "markdown",
   "metadata": {},
   "source": [
    "### Example\n",
    "- 원문\n",
    "```html\n",
    "<!DOCTYPE html>\n",
    "<html>\n",
    "<head>\n",
    "    <title>My Simple Webpage</title>\n",
    "</head>\n",
    "<body>\n",
    "    <h1>Welcome to My Webpage</h1>\n",
    "    <p>This is a simple example of an HTML file.</p>\n",
    "    <ul>\n",
    "        <li>Item 1</li>\n",
    "        <li>Item 2</li>\n",
    "        <li>Item 3</li>\n",
    "    </ul>\n",
    "    <p>Feel free to explore and modify this page as you like!</p>\n",
    "</body>\n",
    "</html>\n",
    "```\n",
    "\n",
    "---\n",
    "- 결과\n",
    "<!DOCTYPE html>\n",
    "<html>\n",
    "<head>\n",
    "    <title>My Simple Webpage</title>\n",
    "</head>\n",
    "<body>\n",
    "    <h1>Welcome to My Webpage</h1>\n",
    "    <p>This is a simple example of an HTML file.</p>\n",
    "    <ul>\n",
    "        <li>Item 1</li>\n",
    "        <li>Item 2</li>\n",
    "        <li>Item 3</li>\n",
    "    </ul>\n",
    "    <p>Feel free to explore and modify this page as you like!</p>\n",
    "</body>\n",
    "</html>\n",
    "\n",
    "---"
   ]
  },
  {
   "cell_type": "markdown",
   "metadata": {},
   "source": [
    "### Tag : 태그\n",
    "- 태그로 내용을 묶어 글의 **형식**을 지정할 수 있다.\n",
    "\n",
    "#### \\<p\\>\n",
    "```html\n",
    "<p>이것은 글씨입니다.</p>\n",
    "```\n",
    "이것은 글씨입니다.\n",
    "\n",
    "---\n",
    "```html\n",
    "<p><strong>이것은 진한 글씨입니다.</strong></p>\n",
    "```\n",
    "**이것은 진한 글씨입니다.**\n",
    "\n",
    "---\n",
    "```html\n",
    "<h1>1번째 소제목</h1>\n",
    "```\n",
    "# 1번째 소제목\n",
    "\n",
    "---\n",
    "```html\n",
    "<h2>2번째 소제목</h2>\n",
    "```\n",
    "## 2번째 소제목\n",
    "---\n",
    "\n",
    "- 웹 브라우저마다 지원하는 태그와 속성이 다르다는 것을 숙지하기!!!!\n"
   ]
  },
  {
   "cell_type": "markdown",
   "metadata": {},
   "source": [
    "# HTTP 통신하기"
   ]
  },
  {
   "cell_type": "markdown",
   "metadata": {},
   "source": [
    "```requests```를 이용해 간단한 HTTP통신 수행\n",
    "## Request 라이브러리 "
   ]
  },
  {
   "cell_type": "code",
   "execution_count": 3,
   "metadata": {},
   "outputs": [
    {
     "name": "stdout",
     "output_type": "stream",
     "text": [
      "Collecting requests\n",
      "  Downloading requests-2.31.0-py3-none-any.whl (62 kB)\n",
      "\u001b[2K     \u001b[90m━━━━━━━━━━━━━━━━━━━━━━━━━━━━━━━━━━━━━━━━\u001b[0m \u001b[32m62.6/62.6 kB\u001b[0m \u001b[31m4.0 MB/s\u001b[0m eta \u001b[36m0:00:00\u001b[0m\n",
      "\u001b[?25hCollecting charset-normalizer<4,>=2\n",
      "  Downloading charset_normalizer-3.2.0-cp311-cp311-macosx_11_0_arm64.whl (122 kB)\n",
      "\u001b[2K     \u001b[90m━━━━━━━━━━━━━━━━━━━━━━━━━━━━━━━━━━━━━━━\u001b[0m \u001b[32m122.8/122.8 kB\u001b[0m \u001b[31m8.9 MB/s\u001b[0m eta \u001b[36m0:00:00\u001b[0m\n",
      "\u001b[?25hRequirement already satisfied: idna<4,>=2.5 in /Users/jykim/Library/Python/3.11/lib/python/site-packages (from requests) (3.4)\n",
      "Collecting urllib3<3,>=1.21.1\n",
      "  Downloading urllib3-2.0.4-py3-none-any.whl (123 kB)\n",
      "\u001b[2K     \u001b[90m━━━━━━━━━━━━━━━━━━━━━━━━━━━━━━━━━━━━━━━\u001b[0m \u001b[32m123.9/123.9 kB\u001b[0m \u001b[31m9.5 MB/s\u001b[0m eta \u001b[36m0:00:00\u001b[0m\n",
      "\u001b[?25hCollecting certifi>=2017.4.17\n",
      "  Downloading certifi-2023.7.22-py3-none-any.whl (158 kB)\n",
      "\u001b[2K     \u001b[90m━━━━━━━━━━━━━━━━━━━━━━━━━━━━━━━━━━━━━━\u001b[0m \u001b[32m158.3/158.3 kB\u001b[0m \u001b[31m12.4 MB/s\u001b[0m eta \u001b[36m0:00:00\u001b[0m\n",
      "\u001b[?25hInstalling collected packages: urllib3, charset-normalizer, certifi, requests\n",
      "Successfully installed certifi-2023.7.22 charset-normalizer-3.2.0 requests-2.31.0 urllib3-2.0.4\n",
      "\n",
      "\u001b[1m[\u001b[0m\u001b[34;49mnotice\u001b[0m\u001b[1;39;49m]\u001b[0m\u001b[39;49m A new release of pip is available: \u001b[0m\u001b[31;49m23.0.1\u001b[0m\u001b[39;49m -> \u001b[0m\u001b[32;49m23.2.1\u001b[0m\n",
      "\u001b[1m[\u001b[0m\u001b[34;49mnotice\u001b[0m\u001b[1;39;49m]\u001b[0m\u001b[39;49m To update, run: \u001b[0m\u001b[32;49mpython3.11 -m pip install --upgrade pip\u001b[0m\n",
      "Note: you may need to restart the kernel to use updated packages.\n"
     ]
    }
   ],
   "source": [
    "%pip install requests"
   ]
  },
  {
   "cell_type": "code",
   "execution_count": 9,
   "metadata": {},
   "outputs": [
    {
     "data": {
      "text/plain": [
       "<Response [403]>"
      ]
     },
     "execution_count": 9,
     "metadata": {},
     "output_type": "execute_result"
    }
   ],
   "source": [
    "import requests\n",
    "\n",
    "res = requests.get('https://www.maver.com')\n",
    "\n",
    "res\n"
   ]
  },
  {
   "cell_type": "markdown",
   "metadata": {},
   "source": [
    "- header 정보"
   ]
  },
  {
   "cell_type": "code",
   "execution_count": 10,
   "metadata": {},
   "outputs": [
    {
     "data": {
      "text/plain": [
       "{'Date': 'Mon, 28 Aug 2023 10:12:36 GMT', 'Content-Type': 'text/html; charset=UTF-8', 'Transfer-Encoding': 'chunked', 'Connection': 'close', 'Cross-Origin-Embedder-Policy': 'require-corp', 'Cross-Origin-Opener-Policy': 'same-origin', 'Cross-Origin-Resource-Policy': 'same-origin', 'Origin-Agent-Cluster': '?1', 'Permissions-Policy': 'accelerometer=(),autoplay=(),camera=(),clipboard-read=(),clipboard-write=(),geolocation=(),gyroscope=(),hid=(),interest-cohort=(),magnetometer=(),microphone=(),payment=(),publickey-credentials-get=(),screen-wake-lock=(),serial=(),sync-xhr=(),usb=()', 'Referrer-Policy': 'same-origin', 'X-Frame-Options': 'SAMEORIGIN', 'cf-mitigated': 'challenge', 'Cache-Control': 'private, max-age=0, no-store, no-cache, must-revalidate, post-check=0, pre-check=0', 'Expires': 'Thu, 01 Jan 1970 00:00:01 GMT', 'Set-Cookie': '__cf_bm=kGLX0xyZojbalxj6pZvFrG72UnqqslxjeVEm3Cud3fQ-1693217556-0-AXD0DKSJH+FczhIvNKCsJZ6GynjxdSNNYpsJrP9hjCeYW1hPkmhQafXJF71gde3K0LtV459GA1VdH3AAkiHV5bE=; path=/; expires=Mon, 28-Aug-23 10:42:36 GMT; domain=.sedo.com; HttpOnly; Secure; SameSite=None', 'Vary': 'Accept-Encoding', 'Server': 'cloudflare', 'CF-RAY': '7fdbc6ddadbcc0f6-ICN', 'Content-Encoding': 'gzip'}"
      ]
     },
     "execution_count": 10,
     "metadata": {},
     "output_type": "execute_result"
    }
   ],
   "source": [
    "res.headers"
   ]
  },
  {
   "cell_type": "markdown",
   "metadata": {},
   "source": [
    "- body 정보\n",
    "\n",
    "    - 모든 text를 가지고 있는 상태. 여기서 크롤링 시작"
   ]
  },
  {
   "cell_type": "code",
   "execution_count": 11,
   "metadata": {},
   "outputs": [
    {
     "data": {
      "text/plain": [
       "'<!DOCTYPE html><html lang=\"en-US\"><head><title>Just a moment...</title><meta http-equiv=\"Content-Type\" content=\"text/html; charset=UTF-8\"><meta http-equiv=\"X-UA-Compatible\" content=\"IE=Edge\"><meta name=\"robots\" content=\"noindex,nofollow\"><meta name=\"viewport\" content=\"width=device-width,initial-scale=1\"><link href=\"/cdn-cgi/styles/challenges.css\" rel=\"stylesheet\"></head><body class=\"no-js\"><div class=\"main-wrapper\" role=\"main\"><div class=\"main-content\"><noscript><div id=\"challenge-error-title\"><div class=\"h2\"><span class=\"icon-wrapper\"><div class=\"heading-icon warning-icon\"></div></span><span id=\"challenge-error-text\">Enable JavaScript and cookies to continue</span></div></div></noscript></div></div><script>(function(){window._cf_chl_opt={cvId: \\'2\\',cZone: \\'sedo.com\\',cType: \\'managed\\',cNounce: \\'55104\\',cRay: \\'7fdbc6ddadbcc0f6\\',cHash: \\'d6fcb5876eda570\\',cUPMDTk: \"\\\\/search\\\\/details\\\\/?domain=www.maver.com&campaignId=329145&origin=sales_lander_15&__cf_chl_tk=QjLDeMlX5KOVdgqWUiJH9P5BebRNMPcTOtg'"
      ]
     },
     "execution_count": 11,
     "metadata": {},
     "output_type": "execute_result"
    }
   ],
   "source": [
    "res.text[:1000]"
   ]
  },
  {
   "attachments": {
    "image.png": {
     "image/png": "[encoded data removed]"
    }
   },
   "cell_type": "markdown",
   "metadata": {},
   "source": [
    "### POST\n",
    "- 정보 갱신 요청\n",
    "- https://webhook.site/\n",
    "\n",
    "![image.png](attachment:image.png)"
   ]
  },
  {
   "cell_type": "code",
   "execution_count": 17,
   "metadata": {},
   "outputs": [
    {
     "data": {
      "text/plain": [
       "<Response [200]>"
      ]
     },
     "execution_count": 17,
     "metadata": {},
     "output_type": "execute_result"
    }
   ],
   "source": [
    "# body에 정보 포함해서 전달 : dict활용해서 보낼 수 있음.\n",
    "payload = {'Name' : 'hello', 'age':13}\n",
    "\n",
    "requests.post('https://webhook.site/302114cd-a1eb-48c8-9e90-522b58873fc4', payload)\n"
   ]
  },
  {
   "cell_type": "markdown",
   "metadata": {},
   "source": [
    "- status code(상태 코드 확인) : 200, 404, 505"
   ]
  },
  {
   "cell_type": "code",
   "execution_count": 18,
   "metadata": {},
   "outputs": [
    {
     "data": {
      "text/plain": [
       "403"
      ]
     },
     "execution_count": 18,
     "metadata": {},
     "output_type": "execute_result"
    }
   ],
   "source": [
    "res.status_code"
   ]
  },
  {
   "cell_type": "markdown",
   "metadata": {},
   "source": [
    "## 윤리적으로 웹 스크래핑/크롤링 진행하기\n",
    "\n",
    "- 웹 스크래핑 : 특정 웹 페이지로부터 우리가 원하는 정보를 추출하려 함.\n",
    "- 웹 크롤링 : url을 타고다니며 반복적으로 데이터를 가져옴.\n",
    "    - 크롤러(Crawler)를 통해 웹 페이지 정보를 인덱싱함.\n",
    "    - url별로 어떤 정보가 있는지 색인(index)를 남기게 됨."
   ]
  },
  {
   "cell_type": "markdown",
   "metadata": {},
   "source": [
    "  ### 올바르게 HTTP요청하기 \n",
    "  \n",
    "  #### 고려사항\n",
    "  - 웹 스크래핑/크롤링을 통해 어떤 목적을 달성하고자 하는가?\n",
    "  - 나의 웹 스크래핑/크롤링이 서버에 영향을 미치진 않는지 확인 "
   ]
  },
  {
   "cell_type": "markdown",
   "metadata": {},
   "source": [
    "#### 로봇 배제 프로토콜 (REP : Robot Exclusion Protocol)\n",
    "- 웹 브라우징 : 로봇이 진행가능!\n",
    "\n",
    "#### robot.txt의 예\n",
    "user-agent : * \n",
    "\n",
    "Disallow : /\n",
    "#\n",
    "    - 모든 유저에 대한 접근 불허"
   ]
  },
  {
   "cell_type": "markdown",
   "metadata": {},
   "source": [
    "#### robot.txt 살펴보기\n",
    "- 웹 서버의 무분별한 정보수집이나, 부하를 주게되는 일을 방지하기 위해 마련됨.\n",
    "- 브라우저에 로봇이 아닌 사람임을 알려주는 것이 **사용자 에이전트**(user Agent)정보\n",
    "- 나의 user agent정보 :\n",
    "    - https://www.whatismybrowser.com/detect/what-is-my-user-agent/\n",
    "- 웹 서버에 요청할 때 사용자 에이전트 헤더에 나의 브라우저 정보를 전달하므로, 웹서버가 내 요청을 진짜 사용자로 인지하게끔 해줌."
   ]
  },
  {
   "cell_type": "markdown",
   "metadata": {},
   "source": [
    "#### robot.txt 가져오기\n",
    "- 웹페이지 메인주소 + '/robot.txt'"
   ]
  },
  {
   "cell_type": "code",
   "execution_count": 20,
   "metadata": {},
   "outputs": [
    {
     "data": {
      "text/plain": [
       "'User-agent: *\\nDisallow: /\\nAllow : /$ \\n'"
      ]
     },
     "execution_count": 20,
     "metadata": {},
     "output_type": "execute_result"
    }
   ],
   "source": [
    "import requests\n",
    "res = requests.get('https://www.naver.com/robots.txt')\n",
    "res.text"
   ]
  },
  {
   "cell_type": "markdown",
   "metadata": {},
   "source": [
    "- User-agent : 규칙이 적용되는 대상 사용자 에이전트\n",
    "- Disallow : 크롤링 금지할 웹페이지\n",
    "- Allow : 크롤링을 허용할 웹페이지"
   ]
  },
  {
   "cell_type": "code",
   "execution_count": 22,
   "metadata": {},
   "outputs": [
    {
     "data": {
      "text/plain": [
       "'User-Agent: *\\n\\nDisallow: /users\\nDisallow: /managers\\nDisallow: /cable\\nDisallow: /admin\\nDisallow: /start_trial\\nDisallow: /pr/*\\nAllow: /\\n\\nSitemap: https://programmers.co.kr/sitemaps/sitemap.xml\\n'"
      ]
     },
     "execution_count": 22,
     "metadata": {},
     "output_type": "execute_result"
    }
   ],
   "source": [
    "res = requests.get('https://programmers.co.kr/robots.txt')\n",
    "\n",
    "res.text"
   ]
  },
  {
   "cell_type": "markdown",
   "metadata": {},
   "source": []
  },
  {
   "cell_type": "code",
   "execution_count": null,
   "metadata": {
    "vscode": {
     "languageId": "html"
    }
   },
   "outputs": [],
   "source": []
  }
 ],
 "metadata": {
  "kernelspec": {
   "display_name": "Python 3",
   "language": "python",
   "name": "python3"
  },
  "language_info": {
   "codemirror_mode": {
    "name": "ipython",
    "version": 3
   },
   "file_extension": ".py",
   "mimetype": "text/x-python",
   "name": "python",
   "nbconvert_exporter": "python",
   "pygments_lexer": "ipython3",
   "version": "3.11.3"
  },
  "orig_nbformat": 4
 },
 "nbformat": 4,
 "nbformat_minor": 2
}
