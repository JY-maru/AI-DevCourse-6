{
 "cells": [
  {
   "cell_type": "markdown",
   "metadata": {},
   "source": [
    "# 정적 웹페이지와 동적 웹페이지\n",
    "- html내용이 고정된 정적 웹사이트.\n",
    "- html 내용이 변하는 동적 웹사이트 (ex.인스타 릴스, 유투브 홈화면) -> html 렌더링까지 지연시간이 존재함."
   ]
  },
  {
   "cell_type": "markdown",
   "metadata": {},
   "source": [
    "## 동적 웹사이트 동작 방식\n",
    "- 비동기처리를 통해 필요한 데이터 채움\n",
    "- 동기 처리 : 요청에 따른 응답을 기다린다. (html로딩에 문제 없음.)\n",
    "- 비동기 처리 : 요청에 따른 응답을 기다리지 않음. (데이터가 완전하지 않은 경우 존재 )\n"
   ]
  },
  {
   "cell_type": "markdown",
   "metadata": {},
   "source": [
    "- 데이터가 처리될 때까지, 임의로 시간을 지연한 후, 데이터 처리 끝난 후 정보를 가져옴\n",
    "- 키보드 입력, 마우스 클릭등을 프로그래밍으로 작업할 수 없나?\n",
    "- 웹 브라우저를 (키보드, 마우스 대신)파이썬으로 조작하게 함. -> Selenium\n"
   ]
  },
  {
   "cell_type": "markdown",
   "metadata": {},
   "source": [
    "## Selenium의 action\n",
    "- 응답 후 시간을 지연시키기 가능 \n",
    "- UI와의 `상호작용` 가능"
   ]
  },
  {
   "cell_type": "code",
   "execution_count": null,
   "metadata": {},
   "outputs": [],
   "source": []
  }
 ],
 "metadata": {
  "language_info": {
   "name": "python"
  },
  "orig_nbformat": 4
 },
 "nbformat": 4,
 "nbformat_minor": 2
}
