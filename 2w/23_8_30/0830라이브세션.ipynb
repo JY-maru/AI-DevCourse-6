{
 "cells": [
  {
   "cell_type": "markdown",
   "metadata": {},
   "source": [
    "# 파이썬 더 잘 활용하기"
   ]
  },
  {
   "cell_type": "markdown",
   "metadata": {},
   "source": [
    "## 도전해볼 만한 목표\n",
    "- 수학적 표현에 익숙해지기\n",
    "- command line에 익숙해지기\n",
    "\n",
    "## 최고 목표\n",
    "- 수학적 표현을 코드로 구현\n"
   ]
  },
  {
   "cell_type": "markdown",
   "metadata": {},
   "source": [
    "### `Comprehension`\n",
    "- 리스트 comprehension\n",
    "\n",
    "    -ex. 짝수인 제곱수만 뽑아내기\n",
    "- 딕셔너리, set Comprehension"
   ]
  },
  {
   "cell_type": "code",
   "execution_count": 2,
   "metadata": {},
   "outputs": [
    {
     "data": {
      "text/plain": [
       "[4, 16, 36, 64]"
      ]
     },
     "execution_count": 2,
     "metadata": {},
     "output_type": "execute_result"
    }
   ],
   "source": [
    "l = [i**2 for i in range(1,10) if i%2 == 0]\n",
    "l"
   ]
  },
  {
   "cell_type": "code",
   "execution_count": 3,
   "metadata": {},
   "outputs": [
    {
     "data": {
      "text/plain": [
       "({0: 1, 1: 1, 2: 4, 3: 27, 4: 256}, {1, 4, 27, 256})"
      ]
     },
     "execution_count": 3,
     "metadata": {},
     "output_type": "execute_result"
    }
   ],
   "source": [
    "s_dict = {n : n**n for n in range(5)}\n",
    "s_set = {n**n for n in range(5)}\n",
    "\n",
    "s_dict, s_set"
   ]
  },
  {
   "cell_type": "markdown",
   "metadata": {},
   "source": [
    "- F-string"
   ]
  },
  {
   "cell_type": "code",
   "execution_count": 33,
   "metadata": {},
   "outputs": [
    {
     "name": "stdout",
     "output_type": "stream",
     "text": [
      "34$ =  30.26유로,  44998.32원\n"
     ]
    }
   ],
   "source": [
    "usd2eur = 0.89\n",
    "use2krw = 1323.48\n",
    "\n",
    "usd = int(input('달러 -> 유로 :'))\n",
    "print(f'{usd}$ = {usd2eur*usd: .2f}유로, {use2krw*usd: .2f}원')\n"
   ]
  },
  {
   "cell_type": "markdown",
   "metadata": {},
   "source": [
    "- Multiple Assignment\n"
   ]
  },
  {
   "cell_type": "code",
   "execution_count": 7,
   "metadata": {},
   "outputs": [],
   "source": [
    "code, message  = 404, 'Not Found'\n",
    "\n",
    "# tuple unpacking\n",
    "http_res = (404, 'Not Found')\n",
    "code, message = http_res"
   ]
  },
  {
   "cell_type": "markdown",
   "metadata": {},
   "source": [
    "- catch-All Unpacking"
   ]
  },
  {
   "cell_type": "code",
   "execution_count": 13,
   "metadata": {},
   "outputs": [
    {
     "name": "stdout",
     "output_type": "stream",
     "text": [
      "0\n",
      "1 2 3 4 5 6\n",
      "7\n"
     ]
    }
   ],
   "source": [
    "nums = tuple(range(8))\n",
    "first_num, *middle_num, last_num = nums\n",
    "print(first_num)\n",
    "print(*middle_num)\n",
    "print(last_num)"
   ]
  },
  {
   "cell_type": "markdown",
   "metadata": {},
   "source": [
    "- Walrus  operation"
   ]
  },
  {
   "cell_type": "code",
   "execution_count": 14,
   "metadata": {},
   "outputs": [
    {
     "name": "stdout",
     "output_type": "stream",
     "text": [
      "짝수의 길이\n"
     ]
    }
   ],
   "source": [
    "nums = [1,2,3,4]\n",
    "\n",
    "# n = len(nums)\n",
    "# if n%2 == 0: 를 한번에 쓰기 \n",
    "if (n := len(nums)) %2 == 0:\n",
    "    print('짝수의 길이')"
   ]
  },
  {
   "cell_type": "markdown",
   "metadata": {},
   "source": [
    "- enumerate"
   ]
  },
  {
   "cell_type": "code",
   "execution_count": 18,
   "metadata": {},
   "outputs": [
    {
     "name": "stdout",
     "output_type": "stream",
     "text": [
      "3 1\n",
      "4 2\n",
      "5 3\n",
      "6 4\n"
     ]
    }
   ],
   "source": [
    "for idx, elem in enumerate(nums,3): # 시작 idx : 3\n",
    "    print(idx,elem)"
   ]
  },
  {
   "cell_type": "markdown",
   "metadata": {},
   "source": [
    "- Tenary Expression"
   ]
  },
  {
   "cell_type": "code",
   "execution_count": 28,
   "metadata": {},
   "outputs": [
    {
     "name": "stdout",
     "output_type": "stream",
     "text": [
      "Odd\n"
     ]
    }
   ],
   "source": [
    "# 조건문을 한 줄에 쓰기\n",
    "from random import randint\n",
    "def f():\n",
    "    return 1 if randint(1,10)%2 == 1 else 0\n",
    "state = 'Even' if f() else 'Odd'\n",
    "print(state)"
   ]
  },
  {
   "cell_type": "markdown",
   "metadata": {},
   "source": [
    "# Iterative process\n",
    "- 반복적인 작업을 통해 ML문제를 해결\n",
    "\n",
    "`문제 정의 -> 데이터 수집(naive한 데이터를 가공)-> EDA(기술통계 활용 - 데이터의 양상 파악 : AI모델을 적재적소에 활용하기 위함. : 의사결정 과정) -> 데이터 정제 (data encoding)-> 피쳐 엔지니어링 -> 모델학습 -> 모델 평가 -> 모델 튜닝(하이퍼 파라메터 수정) -> 모델 디버깅(모델 결함 확인)-> 다시 데이터 수집`\n",
    "- 출시  "
   ]
  },
  {
   "cell_type": "markdown",
   "metadata": {},
   "source": []
  }
 ],
 "metadata": {
  "kernelspec": {
   "display_name": "DevCourse_6",
   "language": "python",
   "name": "python3"
  },
  "language_info": {
   "codemirror_mode": {
    "name": "ipython",
    "version": 3
   },
   "file_extension": ".py",
   "mimetype": "text/x-python",
   "name": "python",
   "nbconvert_exporter": "python",
   "pygments_lexer": "ipython3",
   "version": "3.10.12"
  },
  "orig_nbformat": 4
 },
 "nbformat": 4,
 "nbformat_minor": 2
}
