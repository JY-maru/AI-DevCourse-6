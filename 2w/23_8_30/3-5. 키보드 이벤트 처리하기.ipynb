{
 "cells": [
  {
   "cell_type": "markdown",
   "id": "192778f5-b6a0-458f-9d28-2ecd531975a1",
   "metadata": {},
   "source": [
    "## 3-5. 키보드 이벤트 처리하기\n",
    "\n",
    "- Selenium을 이용해서 키보드 Event를 동작해봅시다."
   ]
  },
  {
   "cell_type": "markdown",
   "id": "e0a274aa-bd9b-4bc6-b4e9-05b6f2b2ea18",
   "metadata": {},
   "source": [
    "### Keyboard Event\n",
    "\n",
    "웹 페이지에서 일어나는 일들을 Event라고 합니다.\n",
    "\n",
    "키보드로 일어날 수 있는 대표적인 이벤트는 다음과 같습니다.\n",
    "\n",
    "- 키보드 누르기(press down)\n",
    "- 키보드 떼기(press up)\n",
    "- ..."
   ]
  },
  {
   "cell_type": "markdown",
   "id": "2089351f-aa4e-4177-ba76-5fbdddd02c8b",
   "metadata": {},
   "source": [
    "저희는 입력창(`input` 태그의 form)에 키보드 입력을 진행하는 것을 목표로 합니다.  \n",
    "키보드 입력은 크게 다음과 같은 과정을 거칩니다.\n",
    "\n",
    "1. 입력하고자 하는 대상 요소를 찾습니다. (`find_element()` 이용)\n",
    "2. 입력하고자 하는 내용을 `send_keys_to_element`를 통해 전달합니다.\n",
    "3. `.perform()`을 통해 동작합니다.\n",
    "\n",
    "아래 예시는 `id`가 textInput인 요소에 \"abc\"를 입력하는 예제입니다.\n",
    "```python\n",
    "text_input = driver.find_element(By.ID, \"textInput\")\n",
    "ActionChains(driver).send_keys_to_element(text_input, \"abc\").perform()\n",
    "```"
   ]
  },
  {
   "cell_type": "markdown",
   "id": "21cda704-06c6-4de4-83a7-f77fbeec5728",
   "metadata": {},
   "source": [
    "### Target: 해시코드 로그인하기\n",
    "\n",
    "다음 사이트에 Selenium을 이용해서 로그인을 진행해봅시다 : https://hashcode.co.kr "
   ]
  },
  {
   "cell_type": "code",
   "execution_count": 1,
   "id": "e1e6514c",
   "metadata": {},
   "outputs": [],
   "source": [
    "# 스크래핑에 필요한 라이브러리를 불러와봅시다.\n",
    "\n",
    "from selenium import webdriver\n",
    "from selenium.webdriver import ActionChains\n",
    "from webdriver_manager.chrome import ChromeDriverManager\n",
    "from selenium.webdriver.common.actions.action_builder import ActionBuilder\n",
    "from selenium.webdriver import Keys, ActionChains\n",
    "from selenium.webdriver.chrome.service import Service\n",
    "from selenium.webdriver.common.by import By"
   ]
  },
  {
   "cell_type": "markdown",
   "id": "bd22b243-a896-451f-8c89-0423400e5923",
   "metadata": {},
   "source": [
    "지난 실습에서 다룬 마우스 실습을 통해 로그인 창에 접속하는 것에 성공했는데요,  \n",
    "여기에 이제 키보드 입력을 넣어서 로그인을 완료해봅시다."
   ]
  },
  {
   "cell_type": "code",
   "execution_count": 2,
   "id": "80b21410-4429-470b-b7ab-a632cae667e6",
   "metadata": {},
   "outputs": [
    {
     "ename": "NoSuchElementException",
     "evalue": "Message: no such element: Unable to locate element: {\"method\":\"xpath\",\"selector\":\"/html/body/div/div/div/main/article/div/div/form/div[1]/div/input\"}\n  (Session info: chrome=116.0.5845.110); For documentation on this error, please visit: https://www.selenium.dev/documentation/webdriver/troubleshooting/errors#no-such-element-exception\nStacktrace:\n0   chromedriver                        0x0000000102dca65c chromedriver + 4318812\n1   chromedriver                        0x0000000102dc2d00 chromedriver + 4287744\n2   chromedriver                        0x00000001029f47ec chromedriver + 296940\n3   chromedriver                        0x0000000102a32048 chromedriver + 548936\n4   chromedriver                        0x0000000102a6ad28 chromedriver + 781608\n5   chromedriver                        0x0000000102a26178 chromedriver + 500088\n6   chromedriver                        0x0000000102a26fc0 chromedriver + 503744\n7   chromedriver                        0x0000000102d8ac40 chromedriver + 4058176\n8   chromedriver                        0x0000000102d8f160 chromedriver + 4075872\n9   chromedriver                        0x0000000102d52e68 chromedriver + 3829352\n10  chromedriver                        0x0000000102d8fc4c chromedriver + 4078668\n11  chromedriver                        0x0000000102d67f08 chromedriver + 3915528\n12  chromedriver                        0x0000000102dac140 chromedriver + 4194624\n13  chromedriver                        0x0000000102dac2c4 chromedriver + 4195012\n14  chromedriver                        0x0000000102dbc4d0 chromedriver + 4261072\n15  libsystem_pthread.dylib             0x000000018254a06c _pthread_start + 148\n16  libsystem_pthread.dylib             0x0000000182544e2c thread_start + 8\n",
     "output_type": "error",
     "traceback": [
      "\u001b[0;31m---------------------------------------------------------------------------\u001b[0m",
      "\u001b[0;31mNoSuchElementException\u001b[0m                    Traceback (most recent call last)",
      "Cell \u001b[0;32mIn[2], line 28\u001b[0m\n\u001b[1;32m     25\u001b[0m time\u001b[39m.\u001b[39msleep(\u001b[39m1\u001b[39m)\n\u001b[1;32m     27\u001b[0m \u001b[39m# \"아이디\" input 요소에 여러분의 아이디를 입력합니다.\u001b[39;00m\n\u001b[0;32m---> 28\u001b[0m id_input \u001b[39m=\u001b[39m driver\u001b[39m.\u001b[39;49mfind_element(By\u001b[39m.\u001b[39;49mXPATH,\u001b[39m'\u001b[39;49m\u001b[39m/html/body/div/div/div/main/article/div/div/form/div[1]/div/input\u001b[39;49m\u001b[39m'\u001b[39;49m)\n\u001b[1;32m     29\u001b[0m ActionChains(driver)\u001b[39m.\u001b[39msend_keys_to_element(id_input,\u001b[39m\"\u001b[39m\u001b[39mjeongyeon2134\u001b[39m\u001b[39m\"\u001b[39m)\u001b[39m.\u001b[39mperform()\n\u001b[1;32m     30\u001b[0m time\u001b[39m.\u001b[39msleep(\u001b[39m1\u001b[39m)\n",
      "File \u001b[0;32m~/opt/anaconda3/envs/DevCourse_6/lib/python3.10/site-packages/selenium/webdriver/remote/webdriver.py:739\u001b[0m, in \u001b[0;36mWebDriver.find_element\u001b[0;34m(self, by, value)\u001b[0m\n\u001b[1;32m    736\u001b[0m     by \u001b[39m=\u001b[39m By\u001b[39m.\u001b[39mCSS_SELECTOR\n\u001b[1;32m    737\u001b[0m     value \u001b[39m=\u001b[39m \u001b[39mf\u001b[39m\u001b[39m'\u001b[39m\u001b[39m[name=\u001b[39m\u001b[39m\"\u001b[39m\u001b[39m{\u001b[39;00mvalue\u001b[39m}\u001b[39;00m\u001b[39m\"\u001b[39m\u001b[39m]\u001b[39m\u001b[39m'\u001b[39m\n\u001b[0;32m--> 739\u001b[0m \u001b[39mreturn\u001b[39;00m \u001b[39mself\u001b[39;49m\u001b[39m.\u001b[39;49mexecute(Command\u001b[39m.\u001b[39;49mFIND_ELEMENT, {\u001b[39m\"\u001b[39;49m\u001b[39musing\u001b[39;49m\u001b[39m\"\u001b[39;49m: by, \u001b[39m\"\u001b[39;49m\u001b[39mvalue\u001b[39;49m\u001b[39m\"\u001b[39;49m: value})[\u001b[39m\"\u001b[39m\u001b[39mvalue\u001b[39m\u001b[39m\"\u001b[39m]\n",
      "File \u001b[0;32m~/opt/anaconda3/envs/DevCourse_6/lib/python3.10/site-packages/selenium/webdriver/remote/webdriver.py:345\u001b[0m, in \u001b[0;36mWebDriver.execute\u001b[0;34m(self, driver_command, params)\u001b[0m\n\u001b[1;32m    343\u001b[0m response \u001b[39m=\u001b[39m \u001b[39mself\u001b[39m\u001b[39m.\u001b[39mcommand_executor\u001b[39m.\u001b[39mexecute(driver_command, params)\n\u001b[1;32m    344\u001b[0m \u001b[39mif\u001b[39;00m response:\n\u001b[0;32m--> 345\u001b[0m     \u001b[39mself\u001b[39;49m\u001b[39m.\u001b[39;49merror_handler\u001b[39m.\u001b[39;49mcheck_response(response)\n\u001b[1;32m    346\u001b[0m     response[\u001b[39m\"\u001b[39m\u001b[39mvalue\u001b[39m\u001b[39m\"\u001b[39m] \u001b[39m=\u001b[39m \u001b[39mself\u001b[39m\u001b[39m.\u001b[39m_unwrap_value(response\u001b[39m.\u001b[39mget(\u001b[39m\"\u001b[39m\u001b[39mvalue\u001b[39m\u001b[39m\"\u001b[39m, \u001b[39mNone\u001b[39;00m))\n\u001b[1;32m    347\u001b[0m     \u001b[39mreturn\u001b[39;00m response\n",
      "File \u001b[0;32m~/opt/anaconda3/envs/DevCourse_6/lib/python3.10/site-packages/selenium/webdriver/remote/errorhandler.py:229\u001b[0m, in \u001b[0;36mErrorHandler.check_response\u001b[0;34m(self, response)\u001b[0m\n\u001b[1;32m    227\u001b[0m         alert_text \u001b[39m=\u001b[39m value[\u001b[39m\"\u001b[39m\u001b[39malert\u001b[39m\u001b[39m\"\u001b[39m]\u001b[39m.\u001b[39mget(\u001b[39m\"\u001b[39m\u001b[39mtext\u001b[39m\u001b[39m\"\u001b[39m)\n\u001b[1;32m    228\u001b[0m     \u001b[39mraise\u001b[39;00m exception_class(message, screen, stacktrace, alert_text)  \u001b[39m# type: ignore[call-arg]  # mypy is not smart enough here\u001b[39;00m\n\u001b[0;32m--> 229\u001b[0m \u001b[39mraise\u001b[39;00m exception_class(message, screen, stacktrace)\n",
      "\u001b[0;31mNoSuchElementException\u001b[0m: Message: no such element: Unable to locate element: {\"method\":\"xpath\",\"selector\":\"/html/body/div/div/div/main/article/div/div/form/div[1]/div/input\"}\n  (Session info: chrome=116.0.5845.110); For documentation on this error, please visit: https://www.selenium.dev/documentation/webdriver/troubleshooting/errors#no-such-element-exception\nStacktrace:\n0   chromedriver                        0x0000000102dca65c chromedriver + 4318812\n1   chromedriver                        0x0000000102dc2d00 chromedriver + 4287744\n2   chromedriver                        0x00000001029f47ec chromedriver + 296940\n3   chromedriver                        0x0000000102a32048 chromedriver + 548936\n4   chromedriver                        0x0000000102a6ad28 chromedriver + 781608\n5   chromedriver                        0x0000000102a26178 chromedriver + 500088\n6   chromedriver                        0x0000000102a26fc0 chromedriver + 503744\n7   chromedriver                        0x0000000102d8ac40 chromedriver + 4058176\n8   chromedriver                        0x0000000102d8f160 chromedriver + 4075872\n9   chromedriver                        0x0000000102d52e68 chromedriver + 3829352\n10  chromedriver                        0x0000000102d8fc4c chromedriver + 4078668\n11  chromedriver                        0x0000000102d67f08 chromedriver + 3915528\n12  chromedriver                        0x0000000102dac140 chromedriver + 4194624\n13  chromedriver                        0x0000000102dac2c4 chromedriver + 4195012\n14  chromedriver                        0x0000000102dbc4d0 chromedriver + 4261072\n15  libsystem_pthread.dylib             0x000000018254a06c _pthread_start + 148\n16  libsystem_pthread.dylib             0x0000000182544e2c thread_start + 8\n"
     ]
    }
   ],
   "source": [
    "# driver를 이용해 해당 사이트에 요청을 보내봅시다.\n",
    "import time\n",
    "\n",
    "driver = webdriver.Chrome(service=Service(ChromeDriverManager().install()))\n",
    "driver.get('https://www.mangoplate.com/')\n",
    "#driver.implicitly_wait(10)\n",
    "time.sleep(1)\n",
    "\n",
    "# 내비게이션 바에서 \"로그인\" 버튼을 찾아 눌러봅시다.\n",
    "classes = ['UserProfileButton__PersonIcon','UserRestaurantHistory__LoginButton UserRestaurantHistory__LoginButton--Show']\n",
    "\n",
    "# 사람 아이콘 클릭\n",
    "button = driver.find_element(By.CLASS_NAME, 'UserProfileButton__PersonIcon')\n",
    "ActionChains(driver).click(button).perform()\n",
    "time.sleep(1)\n",
    "\n",
    "# 로그인 클릭\n",
    "button = driver.find_element(By.XPATH, '/html/body/div[3]/div[2]/footer/button[1]')\n",
    "ActionChains(driver).click(button).perform()\n",
    "time.sleep(1)\n",
    "\n",
    "# 카톡으로 로그인 클릭\n",
    "button = driver.find_element(By.XPATH, '/html/body/aside/div/p[3]/a[2]/span')\n",
    "ActionChains(driver).click(button).perform()\n",
    "time.sleep(1)\n",
    "\n",
    "# \"아이디\" input 요소에 여러분의 아이디를 입력합니다.\n",
    "id_input = driver.find_element(By.XPATH,'/html/body/div/div/div/main/article/div/div/form/div[1]/div/input')\n",
    "ActionChains(driver).send_keys_to_element(id_input,\"jeongyeon2134\").perform()\n",
    "time.sleep(1)\n",
    "\n",
    "# \"패스워드\" input 요소에 여러분의 비밀번호를 입력합니다.\n",
    "pw_input = driver.find_element(By.XPATH,'//*[@id=\"password--2\"]')\n",
    "ActionChains(driver).send_keys_to_element(pw_input,\"wjddusjy12!\").perform()\n",
    "time.sleep(1)\n",
    "\n",
    "# \"로그인\" 버튼을 눌러서 로그인을 완료합니다. //*[@id=\"mainContent\"]/div/div/form/div[5]/button[1]\n",
    "login_button = driver.find_element(By.XPATH , '//*[@id=\"mainContent\"]/div/div/form/div[5]/button[1]')\n",
    "ActionChains(driver).click(login_button).perform()\n",
    "time.sleep(1)\n"
   ]
  },
  {
   "cell_type": "code",
   "execution_count": 3,
   "id": "e8262e97",
   "metadata": {},
   "outputs": [],
   "source": [
    "driver.quit()"
   ]
  },
  {
   "cell_type": "markdown",
   "id": "c3294b64-5e6c-4ca5-9e8b-4bc793837a39",
   "metadata": {},
   "source": [
    "이렇게 저희가 로그인을 손 대지 않고 진행하는 실습을 진행해보았습니다.  \n",
    "이를 바탕으로 로그인이 필요한 정보를 스크래핑할 수 있겠죠? :)"
   ]
  },
  {
   "cell_type": "markdown",
   "id": "0762020c-56a8-495c-ae87-1a942a0d1117",
   "metadata": {},
   "source": [
    "Tip: 이 외에도 사용할 수 있는 키보드 이벤트들 역시 많습니다. 다음 [링크](https://www.selenium.dev/documentation/webdriver/actions_api/keyboard/)를 통해 확인하실 수 있어요!"
   ]
  }
 ],
 "metadata": {
  "kernelspec": {
   "display_name": "Python 3 (ipykernel)",
   "language": "python",
   "name": "python3"
  },
  "language_info": {
   "codemirror_mode": {
    "name": "ipython",
    "version": 3
   },
   "file_extension": ".py",
   "mimetype": "text/x-python",
   "name": "python",
   "nbconvert_exporter": "python",
   "pygments_lexer": "ipython3",
   "version": "3.10.12"
  }
 },
 "nbformat": 4,
 "nbformat_minor": 5
}
