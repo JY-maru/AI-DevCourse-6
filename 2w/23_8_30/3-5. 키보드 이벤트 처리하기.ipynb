{
 "cells": [
  {
   "cell_type": "markdown",
   "id": "192778f5-b6a0-458f-9d28-2ecd531975a1",
   "metadata": {},
   "source": [
    "## 3-5. 키보드 이벤트 처리하기\n",
    "\n",
    "- Selenium을 이용해서 키보드 Event를 동작해봅시다."
   ]
  },
  {
   "cell_type": "markdown",
   "id": "e0a274aa-bd9b-4bc6-b4e9-05b6f2b2ea18",
   "metadata": {},
   "source": [
    "### Keyboard Event\n",
    "\n",
    "웹 페이지에서 일어나는 일들을 Event라고 합니다.\n",
    "\n",
    "키보드로 일어날 수 있는 대표적인 이벤트는 다음과 같습니다.\n",
    "\n",
    "- 키보드 누르기(press down)\n",
    "- 키보드 떼기(press up)\n",
    "- ..."
   ]
  },
  {
   "cell_type": "markdown",
   "id": "2089351f-aa4e-4177-ba76-5fbdddd02c8b",
   "metadata": {},
   "source": [
    "저희는 입력창(`input` 태그의 form)에 키보드 입력을 진행하는 것을 목표로 합니다.  \n",
    "키보드 입력은 크게 다음과 같은 과정을 거칩니다.\n",
    "\n",
    "1. 입력하고자 하는 대상 요소를 찾습니다. (`find_element()` 이용)\n",
    "2. 입력하고자 하는 내용을 `send_keys_to_element`를 통해 전달합니다.\n",
    "3. `.perform()`을 통해 동작합니다.\n",
    "\n",
    "아래 예시는 `id`가 textInput인 요소에 \"abc\"를 입력하는 예제입니다.\n",
    "```python\n",
    "text_input = driver.find_element(By.ID, \"textInput\")\n",
    "ActionChains(driver).send_keys_to_element(text_input, \"abc\").perform()\n",
    "```"
   ]
  },
  {
   "cell_type": "markdown",
   "id": "21cda704-06c6-4de4-83a7-f77fbeec5728",
   "metadata": {},
   "source": [
    "### Target: 해시코드 로그인하기\n",
    "\n",
    "다음 사이트에 Selenium을 이용해서 로그인을 진행해봅시다 : https://hashcode.co.kr "
   ]
  },
  {
   "cell_type": "code",
   "execution_count": 1,
   "id": "e1e6514c",
   "metadata": {},
   "outputs": [],
   "source": [
    "# 스크래핑에 필요한 라이브러리를 불러와봅시다.\n",
    "\n",
    "from selenium import webdriver\n",
    "from selenium.webdriver import ActionChains\n",
    "from webdriver_manager.chrome import ChromeDriverManager\n",
    "from selenium.webdriver.common.actions.action_builder import ActionBuilder\n",
    "from selenium.webdriver import Keys, ActionChains\n",
    "from selenium.webdriver.chrome.service import Service\n",
    "from selenium.webdriver.common.by import By\n",
    "\n",
    "from selenium.webdriver.support.ui import WebDriverWait\n",
    "from selenium.webdriver.support import expected_conditions as EC\n",
    "\n",
    "import pyperclip\n",
    "\n",
    "# selenium에서 user-agent추가 : 딕셔너리 아닌 문자열 형태\n",
    "# opt = webdriver.ChromeOptions()\n",
    "# user_agent = \"Mozilla/5.0 (Macintosh; Intel Mac OS X 10_15_7) AppleWebKit/605.1.15 (KHTML, like Gecko) Version/16.1 Safari/605.1.15\"\n",
    "\n",
    "# opt.add_argument('user_agent=' + user_agent)\n"
   ]
  },
  {
   "cell_type": "markdown",
   "id": "e3f9ecf9",
   "metadata": {},
   "source": []
  },
  {
   "cell_type": "markdown",
   "id": "bd22b243-a896-451f-8c89-0423400e5923",
   "metadata": {},
   "source": [
    "지난 실습에서 다룬 마우스 실습을 통해 로그인 창에 접속하는 것에 성공했는데요,  \n",
    "여기에 이제 키보드 입력을 넣어서 로그인을 완료해봅시다."
   ]
  },
  {
   "cell_type": "code",
   "execution_count": 6,
   "id": "80b21410-4429-470b-b7ab-a632cae667e6",
   "metadata": {},
   "outputs": [],
   "source": [
    "# driver를 이용해 해당 사이트에 요청을 보내봅시다.\n",
    "import time\n",
    "\n",
    "#driver 객체 생성 : 추가했던 option을 추가하기\n",
    "driver = webdriver.Chrome(service=Service(ChromeDriverManager().install()))\n",
    "driver.get('https://www.naver.com/')\n",
    "#driver.implicitly_wait(10)\n",
    "time.sleep(1)\n",
    "\n",
    "# 내비게이션 바에서 \"로그인\" 버튼을 찾아 눌러봅시다.\n",
    "button = driver.find_element(By.CLASS_NAME, 'MyView-module__link_login___HpHMW')\n",
    "ActionChains(driver).click(button).perform()\n",
    "# time.sleep(1) : 이후 명시적 wait의 실행\n",
    "\n",
    "# \"아이디\" input 요소에 여러분의 아이디를 입력합니다. : \n",
    "# id_input = driver.find_element(By.ID,'query')\n",
    "id_input = WebDriverWait(driver,10).until(EC.presence_of_element_located((By.ID,'id')))\n",
    "\n",
    "ActionChains(driver).click(id_input).perform() # ID창 클릭\n",
    "pyperclip.copy('---') # ID입력\n",
    "# ActionChains(driver).send_keys(Keys.COMMAND + 'v').perform() : 수행되지 않음\n",
    "ActionChains(driver).key_down(Keys.COMMAND).send_keys('v').key_up(Keys.CONTROL).perform()\n",
    "time.sleep(1)\n",
    "\n",
    "# # \"패스워드\" input 요소에 여러분의 비밀번호를 입력합니다.\n",
    "pw_input = driver.find_element(By.ID,'pw')\n",
    "ActionChains(driver).click(pw_input).perform() # PW창 클릭\n",
    "pyperclip.copy('---') # PW 복사\n",
    "ActionChains(driver).key_down(Keys.COMMAND).send_keys('v').key_up(Keys.CONTROL).perform()\n",
    "# ActionChains(driver).send_keys_to_element(pw_input,\"string~\").perform() : 'string~'이라는 문자열로 그대로 입력하는 방법\n",
    "time.sleep(1)\n",
    "\n",
    "# # \"로그인\" 버튼을 눌러서 로그인을 완료합니다.\n",
    "login_button = driver.find_element(By.ID , 'log.login')\n",
    "ActionChains(driver).click(login_button).perform()\n",
    "time.sleep(1)\n"
   ]
  },
  {
   "cell_type": "markdown",
   "id": "c3294b64-5e6c-4ca5-9e8b-4bc793837a39",
   "metadata": {},
   "source": [
    "이렇게 저희가 로그인을 손 대지 않고 진행하는 실습을 진행해보았습니다.  \n",
    "이를 바탕으로 로그인이 필요한 정보를 스크래핑할 수 있겠죠? :)"
   ]
  },
  {
   "cell_type": "markdown",
   "id": "0762020c-56a8-495c-ae87-1a942a0d1117",
   "metadata": {},
   "source": [
    "Tip: 이 외에도 사용할 수 있는 키보드 이벤트들 역시 많습니다. 다음 [링크](https://www.selenium.dev/documentation/webdriver/actions_api/keyboard/)를 통해 확인하실 수 있어요!"
   ]
  },
  {
   "cell_type": "markdown",
   "id": "2fa3ff0e",
   "metadata": {},
   "source": [
    "- 값 복사를 위해 `pyperclip`사용\n"
   ]
  },
  {
   "cell_type": "code",
   "execution_count": 15,
   "id": "cfe4cd49",
   "metadata": {},
   "outputs": [
    {
     "name": "stdout",
     "output_type": "stream",
     "text": [
      "Collecting pyperclip\n",
      "  Downloading pyperclip-1.8.2.tar.gz (20 kB)\n",
      "  Preparing metadata (setup.py) ... \u001b[?25ldone\n",
      "\u001b[?25hBuilding wheels for collected packages: pyperclip\n",
      "  Building wheel for pyperclip (setup.py) ... \u001b[?25ldone\n",
      "\u001b[?25h  Created wheel for pyperclip: filename=pyperclip-1.8.2-py3-none-any.whl size=11124 sha256=4aaf5839d0c8b9a9ab088b3660119ed100bdd81086ec0859ec88522f4213aad2\n",
      "  Stored in directory: /Users/jykim/Library/Caches/pip/wheels/04/24/fe/140a94a7f1036003ede94579e6b4227fe96c840c6f4dcbe307\n",
      "Successfully built pyperclip\n",
      "Installing collected packages: pyperclip\n",
      "Successfully installed pyperclip-1.8.2\n",
      "Note: you may need to restart the kernel to use updated packages.\n"
     ]
    }
   ],
   "source": [
    "%pip install pyperclip"
   ]
  }
 ],
 "metadata": {
  "kernelspec": {
   "display_name": "Python 3 (ipykernel)",
   "language": "python",
   "name": "python3"
  },
  "language_info": {
   "codemirror_mode": {
    "name": "ipython",
    "version": 3
   },
   "file_extension": ".py",
   "mimetype": "text/x-python",
   "name": "python",
   "nbconvert_exporter": "python",
   "pygments_lexer": "ipython3",
   "version": "3.10.12"
  }
 },
 "nbformat": 4,
 "nbformat_minor": 5
}
