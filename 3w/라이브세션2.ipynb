{
 "cells": [
  {
   "cell_type": "markdown",
   "metadata": {},
   "source": [
    "# live Session #2"
   ]
  },
  {
   "cell_type": "markdown",
   "metadata": {},
   "source": [
    "## DataFrame Merge"
   ]
  },
  {
   "cell_type": "markdown",
   "metadata": {},
   "source": [
    "- Jax"
   ]
  },
  {
   "cell_type": "code",
   "execution_count": 5,
   "metadata": {},
   "outputs": [
    {
     "name": "stdout",
     "output_type": "stream",
     "text": [
      "Requirement already satisfied: pip in /Users/jykim/opt/anaconda3/envs/DevCourse_6/lib/python3.10/site-packages (23.2.1)\n",
      "Note: you may need to restart the kernel to use updated packages.\n",
      "Requirement already satisfied: jax[cpu] in /Users/jykim/opt/anaconda3/envs/DevCourse_6/lib/python3.10/site-packages (0.4.14)\n",
      "Requirement already satisfied: ml-dtypes>=0.2.0 in /Users/jykim/opt/anaconda3/envs/DevCourse_6/lib/python3.10/site-packages (from jax[cpu]) (0.2.0)\n",
      "Requirement already satisfied: numpy>=1.22 in /Users/jykim/opt/anaconda3/envs/DevCourse_6/lib/python3.10/site-packages (from jax[cpu]) (1.25.2)\n",
      "Requirement already satisfied: opt-einsum in /Users/jykim/opt/anaconda3/envs/DevCourse_6/lib/python3.10/site-packages (from jax[cpu]) (3.3.0)\n",
      "Requirement already satisfied: scipy>=1.7 in /Users/jykim/opt/anaconda3/envs/DevCourse_6/lib/python3.10/site-packages (from jax[cpu]) (1.11.2)\n",
      "Collecting jaxlib==0.4.14 (from jax[cpu])\n",
      "  Obtaining dependency information for jaxlib==0.4.14 from https://files.pythonhosted.org/packages/bb/4e/a0b7f04224c178e63a19e1ab13a9114d3de2048d0536151d009e888590ec/jaxlib-0.4.14-cp310-cp310-macosx_11_0_arm64.whl.metadata\n",
      "  Downloading jaxlib-0.4.14-cp310-cp310-macosx_11_0_arm64.whl.metadata (2.0 kB)\n",
      "Downloading jaxlib-0.4.14-cp310-cp310-macosx_11_0_arm64.whl (63.5 MB)\n",
      "\u001b[2K   \u001b[90m━━━━━━━━━━━━━━━━━━━━━━━━━━━━━━━━━━━━━━━━\u001b[0m \u001b[32m63.5/63.5 MB\u001b[0m \u001b[31m29.5 MB/s\u001b[0m eta \u001b[36m0:00:00\u001b[0m00:01\u001b[0m00:01\u001b[0m\n",
      "\u001b[?25hInstalling collected packages: jaxlib\n",
      "Successfully installed jaxlib-0.4.14\n",
      "Note: you may need to restart the kernel to use updated packages.\n"
     ]
    }
   ],
   "source": [
    "%pip install --upgrade pip\n",
    "%pip install --upgrade \"jax[cpu]\""
   ]
  },
  {
   "cell_type": "code",
   "execution_count": 7,
   "metadata": {},
   "outputs": [
    {
     "data": {
      "text/plain": [
       "Array([ 0,  1,  2,  3,  4,  5,  6,  7,  8,  9, 10, 11], dtype=int32)"
      ]
     },
     "execution_count": 7,
     "metadata": {},
     "output_type": "execute_result"
    }
   ],
   "source": [
    "import jax.numpy as jnp\n",
    "jnp.arange(0,12,1)\n"
   ]
  },
  {
   "cell_type": "markdown",
   "metadata": {},
   "source": [
    "### pandas : merge\n",
    "\n",
    "- 엑셀로는 큰 데이터를 처리하기엔 버겁다.\n",
    "\n",
    "- 지금까지 하나의 dataframe에 대한 연산을 주로 진행했는데, 두개이상에 대한 연산을 알아보려한다."
   ]
  },
  {
   "cell_type": "code",
   "execution_count": null,
   "metadata": {},
   "outputs": [],
   "source": []
  },
  {
   "cell_type": "markdown",
   "metadata": {},
   "source": [
    "## Extraordinary Visualization. Plotly"
   ]
  },
  {
   "cell_type": "code",
   "execution_count": null,
   "metadata": {},
   "outputs": [],
   "source": []
  },
  {
   "cell_type": "markdown",
   "metadata": {},
   "source": [
    "## QnA"
   ]
  },
  {
   "cell_type": "code",
   "execution_count": null,
   "metadata": {},
   "outputs": [],
   "source": []
  }
 ],
 "metadata": {
  "kernelspec": {
   "display_name": "DevCourse_6",
   "language": "python",
   "name": "python3"
  },
  "language_info": {
   "codemirror_mode": {
    "name": "ipython",
    "version": 3
   },
   "file_extension": ".py",
   "mimetype": "text/x-python",
   "name": "python",
   "nbconvert_exporter": "python",
   "pygments_lexer": "ipython3",
   "version": "3.10.12"
  },
  "orig_nbformat": 4
 },
 "nbformat": 4,
 "nbformat_minor": 2
}
